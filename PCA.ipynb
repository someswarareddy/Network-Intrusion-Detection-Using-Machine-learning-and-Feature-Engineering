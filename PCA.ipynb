{
 "cells": [
  {
   "cell_type": "markdown",
   "id": "d075dbff",
   "metadata": {},
   "source": [
    "## Network Intrusion Detection"
   ]
  },
  {
   "cell_type": "code",
   "execution_count": 1,
   "id": "0d59a936",
   "metadata": {},
   "outputs": [],
   "source": [
    "import pandas as pd\n",
    "import numpy as np"
   ]
  },
  {
   "cell_type": "code",
   "execution_count": 2,
   "id": "e03f5263",
   "metadata": {},
   "outputs": [
    {
     "data": {
      "text/html": [
       "<div>\n",
       "<style scoped>\n",
       "    .dataframe tbody tr th:only-of-type {\n",
       "        vertical-align: middle;\n",
       "    }\n",
       "\n",
       "    .dataframe tbody tr th {\n",
       "        vertical-align: top;\n",
       "    }\n",
       "\n",
       "    .dataframe thead th {\n",
       "        text-align: right;\n",
       "    }\n",
       "</style>\n",
       "<table border=\"1\" class=\"dataframe\">\n",
       "  <thead>\n",
       "    <tr style=\"text-align: right;\">\n",
       "      <th></th>\n",
       "      <th>duration</th>\n",
       "      <th>protocol_type</th>\n",
       "      <th>service</th>\n",
       "      <th>flag</th>\n",
       "      <th>src_bytes</th>\n",
       "      <th>dst_bytes</th>\n",
       "      <th>land</th>\n",
       "      <th>wrong_fragment</th>\n",
       "      <th>urgent</th>\n",
       "      <th>hot</th>\n",
       "      <th>...</th>\n",
       "      <th>dst_host_srv_count</th>\n",
       "      <th>dst_host_same_srv_rate</th>\n",
       "      <th>dst_host_diff_srv_rate</th>\n",
       "      <th>dst_host_same_src_port_rate</th>\n",
       "      <th>dst_host_srv_diff_host_rate</th>\n",
       "      <th>dst_host_serror_rate</th>\n",
       "      <th>dst_host_srv_serror_rate</th>\n",
       "      <th>dst_host_rerror_rate</th>\n",
       "      <th>dst_host_srv_rerror_rate</th>\n",
       "      <th>class</th>\n",
       "    </tr>\n",
       "  </thead>\n",
       "  <tbody>\n",
       "    <tr>\n",
       "      <th>0</th>\n",
       "      <td>0</td>\n",
       "      <td>tcp</td>\n",
       "      <td>ftp_data</td>\n",
       "      <td>SF</td>\n",
       "      <td>491</td>\n",
       "      <td>0</td>\n",
       "      <td>0</td>\n",
       "      <td>0</td>\n",
       "      <td>0</td>\n",
       "      <td>0</td>\n",
       "      <td>...</td>\n",
       "      <td>25</td>\n",
       "      <td>0.17</td>\n",
       "      <td>0.03</td>\n",
       "      <td>0.17</td>\n",
       "      <td>0.00</td>\n",
       "      <td>0.00</td>\n",
       "      <td>0.00</td>\n",
       "      <td>0.05</td>\n",
       "      <td>0.00</td>\n",
       "      <td>normal</td>\n",
       "    </tr>\n",
       "    <tr>\n",
       "      <th>1</th>\n",
       "      <td>0</td>\n",
       "      <td>udp</td>\n",
       "      <td>other</td>\n",
       "      <td>SF</td>\n",
       "      <td>146</td>\n",
       "      <td>0</td>\n",
       "      <td>0</td>\n",
       "      <td>0</td>\n",
       "      <td>0</td>\n",
       "      <td>0</td>\n",
       "      <td>...</td>\n",
       "      <td>1</td>\n",
       "      <td>0.00</td>\n",
       "      <td>0.60</td>\n",
       "      <td>0.88</td>\n",
       "      <td>0.00</td>\n",
       "      <td>0.00</td>\n",
       "      <td>0.00</td>\n",
       "      <td>0.00</td>\n",
       "      <td>0.00</td>\n",
       "      <td>normal</td>\n",
       "    </tr>\n",
       "    <tr>\n",
       "      <th>2</th>\n",
       "      <td>0</td>\n",
       "      <td>tcp</td>\n",
       "      <td>private</td>\n",
       "      <td>S0</td>\n",
       "      <td>0</td>\n",
       "      <td>0</td>\n",
       "      <td>0</td>\n",
       "      <td>0</td>\n",
       "      <td>0</td>\n",
       "      <td>0</td>\n",
       "      <td>...</td>\n",
       "      <td>26</td>\n",
       "      <td>0.10</td>\n",
       "      <td>0.05</td>\n",
       "      <td>0.00</td>\n",
       "      <td>0.00</td>\n",
       "      <td>1.00</td>\n",
       "      <td>1.00</td>\n",
       "      <td>0.00</td>\n",
       "      <td>0.00</td>\n",
       "      <td>anomaly</td>\n",
       "    </tr>\n",
       "    <tr>\n",
       "      <th>3</th>\n",
       "      <td>0</td>\n",
       "      <td>tcp</td>\n",
       "      <td>http</td>\n",
       "      <td>SF</td>\n",
       "      <td>232</td>\n",
       "      <td>8153</td>\n",
       "      <td>0</td>\n",
       "      <td>0</td>\n",
       "      <td>0</td>\n",
       "      <td>0</td>\n",
       "      <td>...</td>\n",
       "      <td>255</td>\n",
       "      <td>1.00</td>\n",
       "      <td>0.00</td>\n",
       "      <td>0.03</td>\n",
       "      <td>0.04</td>\n",
       "      <td>0.03</td>\n",
       "      <td>0.01</td>\n",
       "      <td>0.00</td>\n",
       "      <td>0.01</td>\n",
       "      <td>normal</td>\n",
       "    </tr>\n",
       "    <tr>\n",
       "      <th>4</th>\n",
       "      <td>0</td>\n",
       "      <td>tcp</td>\n",
       "      <td>http</td>\n",
       "      <td>SF</td>\n",
       "      <td>199</td>\n",
       "      <td>420</td>\n",
       "      <td>0</td>\n",
       "      <td>0</td>\n",
       "      <td>0</td>\n",
       "      <td>0</td>\n",
       "      <td>...</td>\n",
       "      <td>255</td>\n",
       "      <td>1.00</td>\n",
       "      <td>0.00</td>\n",
       "      <td>0.00</td>\n",
       "      <td>0.00</td>\n",
       "      <td>0.00</td>\n",
       "      <td>0.00</td>\n",
       "      <td>0.00</td>\n",
       "      <td>0.00</td>\n",
       "      <td>normal</td>\n",
       "    </tr>\n",
       "  </tbody>\n",
       "</table>\n",
       "<p>5 rows × 42 columns</p>\n",
       "</div>"
      ],
      "text/plain": [
       "   duration protocol_type   service flag  src_bytes  dst_bytes  land  \\\n",
       "0         0           tcp  ftp_data   SF        491          0     0   \n",
       "1         0           udp     other   SF        146          0     0   \n",
       "2         0           tcp   private   S0          0          0     0   \n",
       "3         0           tcp      http   SF        232       8153     0   \n",
       "4         0           tcp      http   SF        199        420     0   \n",
       "\n",
       "   wrong_fragment  urgent  hot  ...  dst_host_srv_count  \\\n",
       "0               0       0    0  ...                  25   \n",
       "1               0       0    0  ...                   1   \n",
       "2               0       0    0  ...                  26   \n",
       "3               0       0    0  ...                 255   \n",
       "4               0       0    0  ...                 255   \n",
       "\n",
       "   dst_host_same_srv_rate  dst_host_diff_srv_rate  \\\n",
       "0                    0.17                    0.03   \n",
       "1                    0.00                    0.60   \n",
       "2                    0.10                    0.05   \n",
       "3                    1.00                    0.00   \n",
       "4                    1.00                    0.00   \n",
       "\n",
       "   dst_host_same_src_port_rate  dst_host_srv_diff_host_rate  \\\n",
       "0                         0.17                         0.00   \n",
       "1                         0.88                         0.00   \n",
       "2                         0.00                         0.00   \n",
       "3                         0.03                         0.04   \n",
       "4                         0.00                         0.00   \n",
       "\n",
       "   dst_host_serror_rate  dst_host_srv_serror_rate  dst_host_rerror_rate  \\\n",
       "0                  0.00                      0.00                  0.05   \n",
       "1                  0.00                      0.00                  0.00   \n",
       "2                  1.00                      1.00                  0.00   \n",
       "3                  0.03                      0.01                  0.00   \n",
       "4                  0.00                      0.00                  0.00   \n",
       "\n",
       "   dst_host_srv_rerror_rate    class  \n",
       "0                      0.00   normal  \n",
       "1                      0.00   normal  \n",
       "2                      0.00  anomaly  \n",
       "3                      0.01   normal  \n",
       "4                      0.00   normal  \n",
       "\n",
       "[5 rows x 42 columns]"
      ]
     },
     "execution_count": 2,
     "metadata": {},
     "output_type": "execute_result"
    }
   ],
   "source": [
    "data=pd.read_csv('Network.csv')\n",
    "data.head()"
   ]
  },
  {
   "cell_type": "code",
   "execution_count": 3,
   "id": "1798f621",
   "metadata": {},
   "outputs": [
    {
     "data": {
      "text/plain": [
       "(25192, 42)"
      ]
     },
     "execution_count": 3,
     "metadata": {},
     "output_type": "execute_result"
    }
   ],
   "source": [
    "data.shape"
   ]
  },
  {
   "cell_type": "code",
   "execution_count": 4,
   "id": "709279f2",
   "metadata": {},
   "outputs": [],
   "source": [
    "import findspark\n",
    "findspark.init()"
   ]
  },
  {
   "cell_type": "code",
   "execution_count": 5,
   "id": "ab62e4da",
   "metadata": {},
   "outputs": [],
   "source": [
    "from pyspark import SparkContext,SparkConf\n",
    "from pyspark.sql import SparkSession"
   ]
  },
  {
   "cell_type": "code",
   "execution_count": 6,
   "id": "9d1cf2e4",
   "metadata": {},
   "outputs": [
    {
     "name": "stderr",
     "output_type": "stream",
     "text": [
      "24/01/06 18:54:01 WARN Utils: Your hostname, Ravis-MacBook-Pro.local resolves to a loopback address: 127.0.0.1; using 192.168.29.245 instead (on interface en0)\n",
      "24/01/06 18:54:01 WARN Utils: Set SPARK_LOCAL_IP if you need to bind to another address\n",
      "Setting default log level to \"WARN\".\n",
      "To adjust logging level use sc.setLogLevel(newLevel). For SparkR, use setLogLevel(newLevel).\n",
      "24/01/06 18:54:02 WARN NativeCodeLoader: Unable to load native-hadoop library for your platform... using builtin-java classes where applicable\n",
      "24/01/06 18:54:02 WARN Utils: Service 'SparkUI' could not bind on port 4040. Attempting port 4041.\n"
     ]
    }
   ],
   "source": [
    "conf = SparkConf().setAppName(\"Example\")\n",
    "sc = SparkContext(conf=conf)"
   ]
  },
  {
   "cell_type": "code",
   "execution_count": 7,
   "id": "eeb7af8c",
   "metadata": {},
   "outputs": [],
   "source": [
    "spark = SparkSession.builder.appName(\"StringIndexerExample\").getOrCreate()\n"
   ]
  },
  {
   "cell_type": "code",
   "execution_count": 8,
   "id": "1ef0e39a",
   "metadata": {},
   "outputs": [
    {
     "data": {
      "text/plain": [
       "['duration',\n",
       " 'protocol_type',\n",
       " 'service',\n",
       " 'flag',\n",
       " 'src_bytes',\n",
       " 'dst_bytes',\n",
       " 'land',\n",
       " 'wrong_fragment',\n",
       " 'urgent',\n",
       " 'hot',\n",
       " 'num_failed_logins',\n",
       " 'logged_in',\n",
       " 'num_compromised',\n",
       " 'root_shell',\n",
       " 'su_attempted',\n",
       " 'num_root',\n",
       " 'num_file_creations',\n",
       " 'num_shells',\n",
       " 'num_access_files',\n",
       " 'num_outbound_cmds',\n",
       " 'is_host_login',\n",
       " 'is_guest_login',\n",
       " 'count',\n",
       " 'srv_count',\n",
       " 'serror_rate',\n",
       " 'srv_serror_rate',\n",
       " 'rerror_rate',\n",
       " 'srv_rerror_rate',\n",
       " 'same_srv_rate',\n",
       " 'diff_srv_rate',\n",
       " 'srv_diff_host_rate',\n",
       " 'dst_host_count',\n",
       " 'dst_host_srv_count',\n",
       " 'dst_host_same_srv_rate',\n",
       " 'dst_host_diff_srv_rate',\n",
       " 'dst_host_same_src_port_rate',\n",
       " 'dst_host_srv_diff_host_rate',\n",
       " 'dst_host_serror_rate',\n",
       " 'dst_host_srv_serror_rate',\n",
       " 'dst_host_rerror_rate',\n",
       " 'dst_host_srv_rerror_rate',\n",
       " 'class']"
      ]
     },
     "execution_count": 8,
     "metadata": {},
     "output_type": "execute_result"
    }
   ],
   "source": [
    "column_names = data.columns.tolist()\n",
    "column_names"
   ]
  },
  {
   "cell_type": "markdown",
   "id": "66fd7752",
   "metadata": {},
   "source": [
    "## STRING INDEXER"
   ]
  },
  {
   "cell_type": "code",
   "execution_count": 9,
   "id": "0428d6c3",
   "metadata": {},
   "outputs": [],
   "source": [
    "from pyspark.sql import SparkSession\n",
    "from pyspark.ml.feature import StringIndexer, VectorAssembler\n",
    "from pyspark.ml import Pipeline\n"
   ]
  },
  {
   "cell_type": "code",
   "execution_count": 10,
   "id": "54966bc4",
   "metadata": {},
   "outputs": [
    {
     "name": "stderr",
     "output_type": "stream",
     "text": [
      "24/01/06 18:54:09 WARN SparkStringUtils: Truncated the string representation of a plan since it was too large. This behavior can be adjusted by setting 'spark.sql.debug.maxToStringFields'.\n",
      "24/01/06 18:54:15 WARN GarbageCollectionMetrics: To enable non-built-in garbage collector(s) List(G1 Concurrent GC), users should configure it(them) to spark.eventLog.gcMetrics.youngGenerationGarbageCollectors or spark.eventLog.gcMetrics.oldGenerationGarbageCollectors\n"
     ]
    },
    {
     "name": "stdout",
     "output_type": "stream",
     "text": [
      "+-------------+----------+----+-------+-------------------+-------------+----------+-----------+------------------+\n",
      "|protocol_type|service   |flag|class  |protocol_type_index|service_index|flag_index|class_index|features          |\n",
      "+-------------+----------+----+-------+-------------------+-------------+----------+-----------+------------------+\n",
      "|tcp          |ftp_data  |SF  |normal |0.0                |4.0          |0.0       |0.0        |(4,[1],[4.0])     |\n",
      "|udp          |other     |SF  |normal |1.0                |6.0          |0.0       |0.0        |[1.0,6.0,0.0,0.0] |\n",
      "|tcp          |private   |S0  |anomaly|0.0                |1.0          |1.0       |1.0        |[0.0,1.0,1.0,1.0] |\n",
      "|tcp          |http      |SF  |normal |0.0                |0.0          |0.0       |0.0        |(4,[],[])         |\n",
      "|tcp          |http      |SF  |normal |0.0                |0.0          |0.0       |0.0        |(4,[],[])         |\n",
      "|tcp          |private   |REJ |anomaly|0.0                |1.0          |2.0       |1.0        |[0.0,1.0,2.0,1.0] |\n",
      "|tcp          |private   |S0  |anomaly|0.0                |1.0          |1.0       |1.0        |[0.0,1.0,1.0,1.0] |\n",
      "|tcp          |private   |S0  |anomaly|0.0                |1.0          |1.0       |1.0        |[0.0,1.0,1.0,1.0] |\n",
      "|tcp          |remote_job|S0  |anomaly|0.0                |58.0         |1.0       |1.0        |[0.0,58.0,1.0,1.0]|\n",
      "|tcp          |private   |S0  |anomaly|0.0                |1.0          |1.0       |1.0        |[0.0,1.0,1.0,1.0] |\n",
      "|tcp          |private   |REJ |anomaly|0.0                |1.0          |2.0       |1.0        |[0.0,1.0,2.0,1.0] |\n",
      "|tcp          |private   |S0  |anomaly|0.0                |1.0          |1.0       |1.0        |[0.0,1.0,1.0,1.0] |\n",
      "|tcp          |http      |SF  |normal |0.0                |0.0          |0.0       |0.0        |(4,[],[])         |\n",
      "|tcp          |ftp_data  |SF  |anomaly|0.0                |4.0          |0.0       |1.0        |[0.0,4.0,0.0,1.0] |\n",
      "|tcp          |name      |S0  |anomaly|0.0                |35.0         |1.0       |1.0        |[0.0,35.0,1.0,1.0]|\n",
      "|tcp          |netbios_ns|S0  |anomaly|0.0                |44.0         |1.0       |1.0        |[0.0,44.0,1.0,1.0]|\n",
      "|tcp          |http      |SF  |normal |0.0                |0.0          |0.0       |0.0        |(4,[],[])         |\n",
      "|icmp         |eco_i     |SF  |anomaly|2.0                |5.0          |0.0       |1.0        |[2.0,5.0,0.0,1.0] |\n",
      "|tcp          |http      |SF  |normal |0.0                |0.0          |0.0       |0.0        |(4,[],[])         |\n",
      "|tcp          |http      |SF  |normal |0.0                |0.0          |0.0       |0.0        |(4,[],[])         |\n",
      "+-------------+----------+----+-------+-------------------+-------------+----------+-----------+------------------+\n",
      "only showing top 20 rows\n",
      "\n"
     ]
    }
   ],
   "source": [
    "df = spark.createDataFrame(data, column_names)\n",
    "\n",
    "\n",
    "columns_to_index = [\"protocol_type\", \"service\", \"flag\",'class']\n",
    "\n",
    "indexers = [StringIndexer(inputCol=col, outputCol=col + \"_index\", handleInvalid=\"skip\") for col in columns_to_index]\n",
    "\n",
    "assembler = VectorAssembler(inputCols=[indexer.getOutputCol() for indexer in indexers], outputCol=\"features\")\n",
    "\n",
    "pipeline = Pipeline(stages=indexers + [assembler])\n",
    "\n",
    "indexed_data = pipeline.fit(df).transform(df)\n",
    "indexed_data.select(\"protocol_type\", \"service\", \"flag\",'class',\"protocol_type_index\", \"service_index\", \"flag_index\",'class_index', \"features\").show(truncate=False)\n",
    "\n"
   ]
  },
  {
   "cell_type": "code",
   "execution_count": 11,
   "id": "747fd321",
   "metadata": {},
   "outputs": [
    {
     "name": "stdout",
     "output_type": "stream",
     "text": [
      "+--------+---------+---------+----+--------------+------+---+-----------------+---------+---------------+----------+------------+--------+------------------+----------+----------------+-----------------+-------------+--------------+-----+---------+-----------+---------------+-----------+---------------+-------------+-------------+------------------+--------------+------------------+----------------------+----------------------+---------------------------+---------------------------+--------------------+------------------------+--------------------+------------------------+-------------------+-------------+----------+-----------+\n",
      "|duration|src_bytes|dst_bytes|land|wrong_fragment|urgent|hot|num_failed_logins|logged_in|num_compromised|root_shell|su_attempted|num_root|num_file_creations|num_shells|num_access_files|num_outbound_cmds|is_host_login|is_guest_login|count|srv_count|serror_rate|srv_serror_rate|rerror_rate|srv_rerror_rate|same_srv_rate|diff_srv_rate|srv_diff_host_rate|dst_host_count|dst_host_srv_count|dst_host_same_srv_rate|dst_host_diff_srv_rate|dst_host_same_src_port_rate|dst_host_srv_diff_host_rate|dst_host_serror_rate|dst_host_srv_serror_rate|dst_host_rerror_rate|dst_host_srv_rerror_rate|protocol_type_index|service_index|flag_index|class_index|\n",
      "+--------+---------+---------+----+--------------+------+---+-----------------+---------+---------------+----------+------------+--------+------------------+----------+----------------+-----------------+-------------+--------------+-----+---------+-----------+---------------+-----------+---------------+-------------+-------------+------------------+--------------+------------------+----------------------+----------------------+---------------------------+---------------------------+--------------------+------------------------+--------------------+------------------------+-------------------+-------------+----------+-----------+\n",
      "|       0|      491|        0|   0|             0|     0|  0|                0|        0|              0|         0|           0|       0|                 0|         0|               0|                0|            0|             0|    2|        2|        0.0|            0.0|        0.0|            0.0|          1.0|          0.0|               0.0|           150|                25|                  0.17|                  0.03|                       0.17|                        0.0|                 0.0|                     0.0|                0.05|                     0.0|                0.0|          4.0|       0.0|        0.0|\n",
      "|       0|      146|        0|   0|             0|     0|  0|                0|        0|              0|         0|           0|       0|                 0|         0|               0|                0|            0|             0|   13|        1|        0.0|            0.0|        0.0|            0.0|         0.08|         0.15|               0.0|           255|                 1|                   0.0|                   0.6|                       0.88|                        0.0|                 0.0|                     0.0|                 0.0|                     0.0|                1.0|          6.0|       0.0|        0.0|\n",
      "|       0|        0|        0|   0|             0|     0|  0|                0|        0|              0|         0|           0|       0|                 0|         0|               0|                0|            0|             0|  123|        6|        1.0|            1.0|        0.0|            0.0|         0.05|         0.07|               0.0|           255|                26|                   0.1|                  0.05|                        0.0|                        0.0|                 1.0|                     1.0|                 0.0|                     0.0|                0.0|          1.0|       1.0|        1.0|\n",
      "|       0|      232|     8153|   0|             0|     0|  0|                0|        1|              0|         0|           0|       0|                 0|         0|               0|                0|            0|             0|    5|        5|        0.2|            0.2|        0.0|            0.0|          1.0|          0.0|               0.0|            30|               255|                   1.0|                   0.0|                       0.03|                       0.04|                0.03|                    0.01|                 0.0|                    0.01|                0.0|          0.0|       0.0|        0.0|\n",
      "|       0|      199|      420|   0|             0|     0|  0|                0|        1|              0|         0|           0|       0|                 0|         0|               0|                0|            0|             0|   30|       32|        0.0|            0.0|        0.0|            0.0|          1.0|          0.0|              0.09|           255|               255|                   1.0|                   0.0|                        0.0|                        0.0|                 0.0|                     0.0|                 0.0|                     0.0|                0.0|          0.0|       0.0|        0.0|\n",
      "+--------+---------+---------+----+--------------+------+---+-----------------+---------+---------------+----------+------------+--------+------------------+----------+----------------+-----------------+-------------+--------------+-----+---------+-----------+---------------+-----------+---------------+-------------+-------------+------------------+--------------+------------------+----------------------+----------------------+---------------------------+---------------------------+--------------------+------------------------+--------------------+------------------------+-------------------+-------------+----------+-----------+\n",
      "only showing top 5 rows\n",
      "\n"
     ]
    }
   ],
   "source": [
    "columns_to_drop = [\"protocol_type\", \"service\", \"flag\",'class','features']\n",
    "\n",
    "indexed_data  = indexed_data .drop(*columns_to_drop)\n",
    "\n",
    "indexed_data.show(5)\n"
   ]
  },
  {
   "cell_type": "markdown",
   "id": "6834d15a",
   "metadata": {},
   "source": [
    "## Label and Data Division "
   ]
  },
  {
   "cell_type": "code",
   "execution_count": 12,
   "id": "082163fb",
   "metadata": {},
   "outputs": [
    {
     "name": "stdout",
     "output_type": "stream",
     "text": [
      "Features:\n",
      "DataFrame[duration: bigint, src_bytes: bigint, dst_bytes: bigint, land: bigint, wrong_fragment: bigint, urgent: bigint, hot: bigint, num_failed_logins: bigint, logged_in: bigint, num_compromised: bigint, root_shell: bigint, su_attempted: bigint, num_root: bigint, num_file_creations: bigint, num_shells: bigint, num_access_files: bigint, num_outbound_cmds: bigint, is_host_login: bigint, is_guest_login: bigint, count: bigint, srv_count: bigint, serror_rate: double, srv_serror_rate: double, rerror_rate: double, srv_rerror_rate: double, same_srv_rate: double, diff_srv_rate: double, srv_diff_host_rate: double, dst_host_count: bigint, dst_host_srv_count: bigint, dst_host_same_srv_rate: double, dst_host_diff_srv_rate: double, dst_host_same_src_port_rate: double, dst_host_srv_diff_host_rate: double, dst_host_serror_rate: double, dst_host_srv_serror_rate: double, dst_host_rerror_rate: double, dst_host_srv_rerror_rate: double, protocol_type_index: double, service_index: double, flag_index: double]\n",
      "\n",
      "Labels:\n",
      "Column<'class_index'>\n"
     ]
    }
   ],
   "source": [
    "features = indexed_data.drop(*['class_index']) \n",
    "labels = indexed_data['class_index']      \n",
    "\n",
    "print(\"Features:\")\n",
    "print(features)\n",
    "\n",
    "print(\"\\nLabels:\")\n",
    "print(labels)"
   ]
  },
  {
   "cell_type": "code",
   "execution_count": 13,
   "id": "dda3d0a7",
   "metadata": {},
   "outputs": [],
   "source": [
    "feature_cols=['duration',\n",
    " 'protocol_type_index',\n",
    " 'service_index',\n",
    " 'flag_index',\n",
    " 'src_bytes',\n",
    " 'dst_bytes',\n",
    " 'land',\n",
    " 'wrong_fragment',\n",
    " 'urgent',\n",
    " 'hot',\n",
    " 'num_failed_logins',\n",
    " 'logged_in',\n",
    " 'num_compromised',\n",
    " 'root_shell',\n",
    " 'su_attempted',\n",
    " 'num_root',\n",
    " 'num_file_creations',\n",
    " 'num_shells',\n",
    " 'num_access_files',\n",
    " 'num_outbound_cmds',\n",
    " 'is_host_login',\n",
    " 'is_guest_login',\n",
    " 'count',\n",
    " 'srv_count',\n",
    " 'serror_rate',\n",
    " 'srv_serror_rate',\n",
    " 'rerror_rate',\n",
    " 'srv_rerror_rate',\n",
    " 'same_srv_rate',\n",
    " 'diff_srv_rate',\n",
    " 'srv_diff_host_rate',\n",
    " 'dst_host_count',\n",
    " 'dst_host_srv_count',\n",
    " 'dst_host_same_srv_rate',\n",
    " 'dst_host_diff_srv_rate',\n",
    " 'dst_host_same_src_port_rate',\n",
    " 'dst_host_srv_diff_host_rate',\n",
    " 'dst_host_serror_rate',\n",
    " 'dst_host_srv_serror_rate',\n",
    " 'dst_host_rerror_rate',\n",
    " 'dst_host_srv_rerror_rate',]"
   ]
  },
  {
   "cell_type": "markdown",
   "id": "758ccfa1",
   "metadata": {},
   "source": [
    "## Vector Assembler"
   ]
  },
  {
   "cell_type": "code",
   "execution_count": 14,
   "id": "433f6586",
   "metadata": {},
   "outputs": [],
   "source": [
    "feature_assembler = VectorAssembler(\n",
    "    inputCols=feature_cols,\n",
    "    outputCol=\"features\"\n",
    ")"
   ]
  },
  {
   "cell_type": "markdown",
   "id": "c68afa9b",
   "metadata": {},
   "source": [
    "## PCA"
   ]
  },
  {
   "cell_type": "code",
   "execution_count": 15,
   "id": "94f29108",
   "metadata": {},
   "outputs": [],
   "source": [
    "from pyspark.sql import SparkSession\n",
    "from pyspark.ml.feature import VectorAssembler\n",
    "from pyspark.ml.feature import PCA\n",
    "from pyspark.ml.feature import StandardScaler"
   ]
  },
  {
   "cell_type": "code",
   "execution_count": 16,
   "id": "ccf3e9f2",
   "metadata": {},
   "outputs": [
    {
     "name": "stderr",
     "output_type": "stream",
     "text": [
      "                                                                                \r"
     ]
    },
    {
     "data": {
      "text/plain": [
       "DataFrame[duration: bigint, src_bytes: bigint, dst_bytes: bigint, land: bigint, wrong_fragment: bigint, urgent: bigint, hot: bigint, num_failed_logins: bigint, logged_in: bigint, num_compromised: bigint, root_shell: bigint, su_attempted: bigint, num_root: bigint, num_file_creations: bigint, num_shells: bigint, num_access_files: bigint, num_outbound_cmds: bigint, is_host_login: bigint, is_guest_login: bigint, count: bigint, srv_count: bigint, serror_rate: double, srv_serror_rate: double, rerror_rate: double, srv_rerror_rate: double, same_srv_rate: double, diff_srv_rate: double, srv_diff_host_rate: double, dst_host_count: bigint, dst_host_srv_count: bigint, dst_host_same_srv_rate: double, dst_host_diff_srv_rate: double, dst_host_same_src_port_rate: double, dst_host_srv_diff_host_rate: double, dst_host_serror_rate: double, dst_host_srv_serror_rate: double, dst_host_rerror_rate: double, dst_host_srv_rerror_rate: double, protocol_type_index: double, service_index: double, flag_index: double, class_index: double]"
      ]
     },
     "execution_count": 16,
     "metadata": {},
     "output_type": "execute_result"
    }
   ],
   "source": [
    "\n",
    "# Center and scale features\n",
    "scaler = StandardScaler(inputCol=\"features\", outputCol=\"scaled_features\", withMean=True, withStd=True)\n",
    "pipeline = Pipeline(stages=[feature_assembler, scaler])\n",
    "scaler_model = pipeline.fit(indexed_data)\n",
    "result = scaler_model.transform(indexed_data)\n",
    "indexed_data.na.drop()"
   ]
  },
  {
   "cell_type": "code",
   "execution_count": 17,
   "id": "c96cf1a4",
   "metadata": {},
   "outputs": [
    {
     "name": "stderr",
     "output_type": "stream",
     "text": [
      "24/01/06 18:54:21 WARN InstanceBuilder: Failed to load implementation from:dev.ludovic.netlib.blas.JNIBLAS\n",
      "24/01/06 18:54:21 WARN InstanceBuilder: Failed to load implementation from:dev.ludovic.netlib.blas.VectorBLAS\n",
      "24/01/06 18:54:21 WARN InstanceBuilder: Failed to load implementation from:dev.ludovic.netlib.lapack.JNILAPACK\n"
     ]
    }
   ],
   "source": [
    "pca = PCA(k=25, inputCol=\"scaled_features\", outputCol=\"pca_features\")\n",
    "pipeline = Pipeline(stages=[feature_assembler,scaler, pca])\n",
    "model = pipeline.fit(indexed_data)\n",
    "result = model.transform(indexed_data)"
   ]
  },
  {
   "cell_type": "code",
   "execution_count": 18,
   "id": "63792837",
   "metadata": {},
   "outputs": [
    {
     "name": "stdout",
     "output_type": "stream",
     "text": [
      "DataFrame with PCA Features:\n",
      "+-----------+---------------------------------------------------------------------------------------------------------------------------------------------------------------------------------------------------------------------------------------------------------------------------------------------------------------------------------------------------------------------------------------------------------------------------------------------------------------------------------------------------------------------------------------+\n",
      "|class_index|pca_features                                                                                                                                                                                                                                                                                                                                                                                                                                                                                                                           |\n",
      "+-----------+---------------------------------------------------------------------------------------------------------------------------------------------------------------------------------------------------------------------------------------------------------------------------------------------------------------------------------------------------------------------------------------------------------------------------------------------------------------------------------------------------------------------------------------+\n",
      "|0.0        |[0.8089883543500459,0.10708318976460858,0.040790566294136105,-0.08753410097306319,0.26272846964301394,-0.06606184903711013,0.6237953991030464,-0.05353532032680317,0.011138739555440876,0.06407524942741936,-0.327565506681145,-0.04600547276257569,-0.07564390115301585,-0.009066715573828397,-0.006832149664030644,0.1566771963461892,0.5461879809928565,0.32674403641923994,-0.22637917676832695,0.9396634716500709,-0.6904273442472647,-0.33012845898039234,-0.2779559702264256,-0.9746099543248858,-0.8208997137696694]           |\n",
      "|0.0        |[-0.3345003049271916,-0.7973726581762447,0.11082677768029772,2.2422389534558467,1.2011818149684486,0.2841286392855416,2.7912069144060947,0.7992963614867132,0.003401136279590143,0.02780479939139483,0.45201633027676763,0.12712392330439473,-0.00560406394416965,-0.008694891379335476,0.06040607407527475,0.3975158283681863,0.633413899019915,0.34560902661162196,-0.2167555547783695,1.1856550934550962,-1.583319767470091,-0.49661825605183174,-0.22374484282842855,0.07266275071755506,0.7035441426933151]                       |\n",
      "|1.0        |[-3.372560634057887,1.8772894642973033,-0.04605771975130185,-0.21997153340155315,-0.011489496381893415,-0.454491764042661,0.07989896299216773,-0.07993006894520731,0.05798247400315854,-0.04132152861863009,-0.0734582041884785,0.008347567871273892,0.07370657924263217,0.03036314709501187,-0.0669448053914312,0.11209110763113624,-1.1042406429065263,-0.1826975822606805,-0.02824871759480877,0.5112298568028089,0.03282585240832401,0.06509069867048903,-0.007379956031942447,-0.17979764743754223,0.050135639474334595]          |\n",
      "|0.0        |[2.5320727394054194,0.7466701126219782,0.05007490056456651,-1.2349741755407766,-0.3586667882951787,-0.5813708430240019,-0.05620402658700015,-0.0018318164777176523,0.035328108135846054,-0.02811180375744763,0.08549601351554041,0.04888792925408602,-0.01646601726609919,-0.057098539613199696,0.004737576557919428,0.07438093635933056,-0.2694843248410145,0.7918367410875295,-0.32929723479575795,-0.5539526167154057,0.3080470011958893,0.33001799566453904,1.886823913564068E-5,-0.12416780336485438,-0.16128037403110324]        |\n",
      "|0.0        |[2.3235415968123636,0.6451797383365637,0.09633268792686153,-1.1810152481608092,-0.9188258455432202,0.5960690303512594,0.20336277987314988,-0.0559551894762279,0.044800676589605334,-0.07444799269769051,0.09281802853435975,0.020340308338767325,0.13350793916925818,-0.02506646917093423,-0.0861593032563231,0.0467876220917868,0.0689978455869001,-0.34547617427110816,0.1378003575315002,0.1990751568986447,0.21116013221179994,-0.3666200600764476,0.034102882188090065,0.4849075107825173,0.4973884512669295]                     |\n",
      "|1.0        |[-1.969787275016292,-5.428780905429262,0.1897681583458969,-0.9620161707086505,-0.8685300951500107,0.38516312401122943,-1.3440752978196913,-0.01279235464868168,-0.0404704647217222,0.05871349775454798,-0.558559425275349,-0.16912894897915837,-0.07190222313452448,-0.01812416053474065,-0.046444679548848906,-0.26609477764546663,-0.5108379922274964,-0.3124247384969718,-0.02276734514345878,1.0734546676668426,-0.2647267780896092,-0.214019073389571,-0.15958775472708764,-0.883719541330759,0.16631193946876782]                |\n",
      "|1.0        |[-3.5369393677599406,1.8692049237345996,-0.04489394798940668,-0.11054911135144582,-0.032622439790632,-0.3370262970439328,0.021728203790320654,-0.08784676268690687,0.048034401829908535,-0.04002135429362922,-0.05654900322292491,0.002171337911164078,0.06737709113804939,0.025254257594395722,-0.06294265074604322,0.0989268082705,-1.1211986019898348,-0.16777258918255936,-0.034001348956148224,0.35698680948989814,-0.047113978262594114,-0.05177441033921982,-0.03776004856613715,-0.343545241764985,0.10155007541241419]        |\n",
      "|1.0        |[-3.3464433442658845,1.8531513488442315,-0.048334854236784186,-0.15612106761504368,0.01990228737867817,-0.41258843920096067,0.12690686147847277,-0.13582265865454887,0.061382889199423994,-0.045987792849682074,-0.08936653753920701,0.0032656435708164782,0.07435990184818655,0.024710088173951674,-0.08740564920992513,0.15235803991585634,-1.1064326959412407,-0.15412513704828365,-0.04377121970474742,0.4747445594142769,-0.08098330556023807,-0.05107651638521827,-0.02632534539183746,-0.14923700945640384,-0.09643843674301028]|\n",
      "|1.0        |[-4.574398121971688,1.9166321910797417,-0.05494053258624397,0.3850257479257227,0.11997202829937606,0.041108255315151825,-1.0562433665023563,-0.22763331532190528,-0.07738283002445531,-0.03442064553902117,0.06227660753724624,-0.0679152753860782,-0.2333836420885054,0.06066885078494379,0.0014632171393490765,-0.1719755829089195,2.9049541923061413,0.3782650076783099,0.11854640883634872,-1.2588268714065305,0.3336564902931972,0.09342644528260384,0.15271935306568044,0.7190759138179046,0.2562090878789417]                   |\n",
      "|1.0        |[-3.451672556035104,1.861096452387415,-0.049248014127473844,-0.17143094429044653,0.016180360757095995,-0.4265059188538224,0.09415340332843446,-0.09687937166610111,0.05586315324343759,-0.04033007097660289,-0.08495646159642924,0.0025437528587137098,0.06973170165365285,0.028934372139274196,-0.07287065374865499,0.12141114064669983,-1.0986712388233573,-0.16974374276078122,-0.03763934530993391,0.4704062759717194,-0.052483440345604065,-0.03243360949143892,-0.030407909798188092,-0.24725129348633101,0.01836268647493831]   |\n",
      "|1.0        |[-2.251733116470756,-5.4373284608308445,0.19815655111152242,-0.8448871612931391,-0.9582411197316174,0.552643610702777,-1.4494029494816196,0.06793383335400925,-0.05926222719613734,0.06355405155649096,-0.47358869260891234,-0.16307042316732234,-0.07374408231381371,-0.023683607795374848,-0.012177799702223515,-0.3310368987587296,-0.5706815039620591,-0.31116108741631926,-0.016343998058743068,0.7889607356639246,-0.2538244440880334,-0.2905717950227052,-0.175577294568644,-1.1015281524682738,0.45112740878787433]            |\n",
      "|1.0        |[-3.623711405765662,1.8464401427225219,-0.04087133360790924,-0.07816600381619251,-0.06365536475630237,-0.28556557110226,0.02997444033226018,-0.04087649965576626,0.044072576382644696,-0.04027834664306657,-0.009235466460480058,0.010320943908829311,0.07295674075140963,0.022027671504898202,-0.0512029627317995,0.08240716634165161,-1.1610668646673203,-0.16048734198947182,-0.03532736886691886,0.2186567000337986,-0.04788401806091466,-0.10716230779510864,-0.03629736342136671,-0.34955286956413445,0.22817450668811026]       |\n",
      "|0.0        |[3.0269252273504392,0.4982436333042164,0.0762632289535444,-0.8094527318362515,0.01817398330398202,-1.078506926383577,-0.25573409569908656,0.238789701786593,0.01835060906581838,0.0014067467811927673,0.14642383078328322,0.05251716392418597,0.025937161345906713,0.11894233681504758,0.06039490648311347,-0.1385348767252749,-0.13203650701919578,-0.3165626364566226,0.1837320862365753,-0.9846605174736736,-0.27158678269905656,0.370052625919871,-0.1832991508489289,-0.3751402020402485,-0.18700074360767424]                    |\n",
      "|1.0        |[2.656675053363382,0.03503217738210271,0.04025968428912876,0.7936609023505842,1.2336693258566778,-1.7143530898223263,0.23443528777881237,-0.12956557678065686,-0.02217979511072812,-0.09487714650878533,0.1500647419951674,-0.05713043736181133,-0.14397613894804925,-0.03306539467958118,-0.11036725055120535,0.4166420647706493,0.25484539731679196,1.8550358677995213,-0.7505699862042658,-0.3529882692536066,-0.5637873561104284,0.4692250532967579,-0.05079469353679383,-0.7686979864826309,1.2283457690658932]                   |\n",
      "|1.0        |[-4.339039526034186,1.8486578126606563,-0.06257379663672233,0.14909995960777234,0.16794810116749637,-0.2113789735263017,-0.4895542837816034,-0.08101401585810528,-0.032012470300769834,-0.019683648598414333,0.007533429156943698,-0.03647571470210381,-0.11569778457603282,0.05395695374647473,-0.002217996997916793,-0.08559521048661146,1.323110041575483,0.14779562807354374,0.05253394879991758,-0.5595728066673582,0.12903853312812283,-0.030462513401033675,0.05339659556888379,0.18478634963184318,0.23729509981922864]        |\n",
      "|1.0        |[-4.0519069320147,1.879070440355071,-0.0840457991387087,0.024271848544019266,0.3869016139264162,-0.4718318058746297,-0.4895148784008601,-0.2700496093671043,-0.02001516362074309,-0.024163009800372517,-0.1604856205503038,-0.06815957959496714,-0.16890040920950836,0.07239350535074139,-0.05777738577459303,-0.011074918156104188,2.095669042504628,0.23036062325537343,0.061943590875433,-0.2582620172164238,0.1244463194486288,0.10411152895736682,0.0936996923785388,0.6493102068329064,-0.2788262043240027]                      |\n",
      "|0.0        |[2.7134550384295797,0.6335911183014421,0.07198991390483521,-1.1575521362910388,-0.4194024209808266,-0.4356880447481328,-0.0704225938881499,0.09568834836989865,0.03869436448586847,-0.019333217235456834,0.10899902184083317,0.06843732520289869,-0.04014193929408365,-0.022772848828562224,0.017954253134640368,-0.0659053797242862,-0.10943951673842855,-0.11079274558749834,0.06351990082744174,-0.49098498903886434,0.10139049342033478,0.10992748859971994,-0.05895930703259785,0.01378718652439321,-0.026406308042080672]        |\n",
      "|1.0        |[3.177883724077443,-0.47491339703084884,0.20141382266698532,5.53606909100526,3.1915785815478195,-3.7196803974624983,-1.7679861643573933,0.5226409732690168,-0.1845463942157399,0.1462630485516053,-0.01274927612765887,0.014978552260138285,-0.08673111305908766,0.15069618298955545,0.10288085276061079,-0.36645352525768055,-0.489462439941396,3.0282514665816165,-1.7309200782793326,1.3467776170054662,3.439792069495907,-2.3624049832048475,0.7987674410354312,0.2802022763492674,0.7636112634662992]                             |\n",
      "|0.0        |[2.7378255908719535,0.5390333376447639,0.06496784991268,-1.2886669083433306,-0.46338528309445304,-0.3168753334151552,0.0653223086327766,0.03839829405107117,0.027633204225781173,-0.020957829007026217,0.06358224130766224,0.029977930680083177,0.05538170363324882,-0.022185654799988828,0.0033431991952037696,0.05974454236819087,-0.06989366564363478,0.6311229788453939,-0.26885285336278414,-0.3251905515608937,0.268133388914789,0.1747198187548241,-0.013215200224972965,-0.11458643899922194,-0.06771171159153279]             |\n",
      "|0.0        |[2.6512153777279033,0.5883465930238678,0.08310593408156683,-1.1213170825810255,-0.5073051897141412,-0.20384992017870213,-9.952562354962366E-4,0.09833242004246902,0.033163481778215036,-0.0336858297927338,0.08485916093846751,0.03612486052616802,0.10000935481569487,0.03287046243434022,-0.020144122829001364,-0.05549322074583153,-0.021195552492842655,-0.24619458130350141,0.09623874378171338,-0.17131606842287378,0.24192638553142146,-0.19833171942577474,-0.005117777515254026,0.23513194435069332,0.22067078989857772]      |\n",
      "+-----------+---------------------------------------------------------------------------------------------------------------------------------------------------------------------------------------------------------------------------------------------------------------------------------------------------------------------------------------------------------------------------------------------------------------------------------------------------------------------------------------------------------------------------------------+\n",
      "only showing top 20 rows\n",
      "\n"
     ]
    }
   ],
   "source": [
    "print(\"DataFrame with PCA Features:\")\n",
    "result.select( \"class_index\",\"pca_features\").show(truncate=False)"
   ]
  },
  {
   "cell_type": "markdown",
   "id": "efa30762",
   "metadata": {},
   "source": [
    "## Decision Tree\n"
   ]
  },
  {
   "cell_type": "code",
   "execution_count": 19,
   "id": "e0883c5c",
   "metadata": {},
   "outputs": [],
   "source": [
    "from pyspark.ml.classification import DecisionTreeClassifier\n",
    "from pyspark.ml.evaluation import BinaryClassificationEvaluator,MulticlassClassificationEvaluator\n",
    "\n"
   ]
  },
  {
   "cell_type": "code",
   "execution_count": 20,
   "id": "f07c6cc6",
   "metadata": {},
   "outputs": [
    {
     "name": "stderr",
     "output_type": "stream",
     "text": [
      "                                                                                \r"
     ]
    },
    {
     "name": "stdout",
     "output_type": "stream",
     "text": [
      "Predictions:\n",
      "+----------+-----------------------------------------+\n",
      "|prediction|probability                              |\n",
      "+----------+-----------------------------------------+\n",
      "|1.0       |[0.34355828220858897,0.656441717791411]  |\n",
      "|0.0       |[0.969388743582292,0.03061125641770803]  |\n",
      "|0.0       |[0.969388743582292,0.03061125641770803]  |\n",
      "|0.0       |[0.969388743582292,0.03061125641770803]  |\n",
      "|0.0       |[0.969388743582292,0.03061125641770803]  |\n",
      "|0.0       |[0.969388743582292,0.03061125641770803]  |\n",
      "|0.0       |[0.969388743582292,0.03061125641770803]  |\n",
      "|0.0       |[0.969388743582292,0.03061125641770803]  |\n",
      "|0.0       |[0.969388743582292,0.03061125641770803]  |\n",
      "|1.0       |[0.03333333333333333,0.9666666666666667] |\n",
      "|0.0       |[0.969388743582292,0.03061125641770803]  |\n",
      "|0.0       |[0.969388743582292,0.03061125641770803]  |\n",
      "|1.0       |[0.0,1.0]                                |\n",
      "|1.0       |[0.0,1.0]                                |\n",
      "|1.0       |[0.03333333333333333,0.9666666666666667] |\n",
      "|0.0       |[0.969388743582292,0.03061125641770803]  |\n",
      "|1.0       |[0.003862032227993075,0.9961379677720069]|\n",
      "|1.0       |[0.003862032227993075,0.9961379677720069]|\n",
      "|1.0       |[0.03333333333333333,0.9666666666666667] |\n",
      "|1.0       |[0.34355828220858897,0.656441717791411]  |\n",
      "+----------+-----------------------------------------+\n",
      "only showing top 20 rows\n",
      "\n"
     ]
    }
   ],
   "source": [
    "(trainingData, testData) = result.randomSplit([0.8, 0.2], seed=123)\n",
    "\n",
    "tree = DecisionTreeClassifier(featuresCol=\"pca_features\", labelCol=\"class_index\",maxBins=100)\n",
    "\n",
    "# Create a pipeline\n",
    "pipeline = Pipeline(stages=[tree])\n",
    "\n",
    "# Train the model\n",
    "model_nb = pipeline.fit(trainingData)\n",
    "\n",
    "# Make predictions on the test data\n",
    "tree_predictions = model_nb.transform(testData)\n",
    "\n",
    "# Display predictions\n",
    "print(\"Predictions:\")\n",
    "tree_predictions.select( \"prediction\", \"probability\").show(truncate=False)\n",
    "\n"
   ]
  },
  {
   "cell_type": "code",
   "execution_count": 21,
   "id": "053b65a3",
   "metadata": {},
   "outputs": [],
   "source": [
    "evaluator = MulticlassClassificationEvaluator(labelCol=\"class_index\", predictionCol=\"prediction\")"
   ]
  },
  {
   "cell_type": "code",
   "execution_count": 22,
   "id": "d3ee63a3",
   "metadata": {},
   "outputs": [
    {
     "name": "stderr",
     "output_type": "stream",
     "text": [
      "\r",
      "[Stage 45:====================================>                     (5 + 3) / 8]\r",
      "\r",
      "                                                                                \r"
     ]
    },
    {
     "data": {
      "text/html": [
       "<div>\n",
       "<style scoped>\n",
       "    .dataframe tbody tr th:only-of-type {\n",
       "        vertical-align: middle;\n",
       "    }\n",
       "\n",
       "    .dataframe tbody tr th {\n",
       "        vertical-align: top;\n",
       "    }\n",
       "\n",
       "    .dataframe thead th {\n",
       "        text-align: right;\n",
       "    }\n",
       "</style>\n",
       "<table border=\"1\" class=\"dataframe\">\n",
       "  <thead>\n",
       "    <tr style=\"text-align: right;\">\n",
       "      <th></th>\n",
       "      <th>Metric</th>\n",
       "      <th>Value</th>\n",
       "    </tr>\n",
       "  </thead>\n",
       "  <tbody>\n",
       "    <tr>\n",
       "      <th>0</th>\n",
       "      <td>Accuracy</td>\n",
       "      <td>96.760814</td>\n",
       "    </tr>\n",
       "    <tr>\n",
       "      <th>1</th>\n",
       "      <td>Precision</td>\n",
       "      <td>96.772406</td>\n",
       "    </tr>\n",
       "    <tr>\n",
       "      <th>2</th>\n",
       "      <td>Recall</td>\n",
       "      <td>96.760814</td>\n",
       "    </tr>\n",
       "    <tr>\n",
       "      <th>3</th>\n",
       "      <td>F1-Score</td>\n",
       "      <td>96.757820</td>\n",
       "    </tr>\n",
       "  </tbody>\n",
       "</table>\n",
       "</div>"
      ],
      "text/plain": [
       "      Metric      Value\n",
       "0   Accuracy  96.760814\n",
       "1  Precision  96.772406\n",
       "2     Recall  96.760814\n",
       "3   F1-Score  96.757820"
      ]
     },
     "execution_count": 22,
     "metadata": {},
     "output_type": "execute_result"
    }
   ],
   "source": [
    "\n",
    "accuracy_tree=evaluator.evaluate(tree_predictions,{evaluator.metricName:\"accuracy\"})\n",
    "precision_tree = evaluator.evaluate(tree_predictions,{evaluator.metricName:\"weightedPrecision\"})\n",
    "recall_tree = evaluator.evaluate(tree_predictions,{evaluator.metricName:\"weightedRecall\"})\n",
    "f1_tree = evaluator.evaluate(tree_predictions,{evaluator.metricName:\"f1\"})\n",
    "table_tree= [(\"Accuracy\", accuracy_tree*100), (\"Precision\", precision_tree*100), (\"Recall\", recall_tree*100), (\"F1-Score\", f1_tree*100)]\n",
    "table_df_tree = pd.DataFrame(table_tree, columns=[\"Metric\", \"Value\"])\n",
    "table_df_tree"
   ]
  },
  {
   "cell_type": "markdown",
   "id": "31ae772a",
   "metadata": {},
   "source": [
    "## Random FOrest"
   ]
  },
  {
   "cell_type": "code",
   "execution_count": 23,
   "id": "be89142d",
   "metadata": {},
   "outputs": [],
   "source": [
    "from pyspark.ml.classification import RandomForestClassifier\n"
   ]
  },
  {
   "cell_type": "code",
   "execution_count": 24,
   "id": "3a06030b",
   "metadata": {},
   "outputs": [
    {
     "name": "stdout",
     "output_type": "stream",
     "text": [
      "Predictions:\n",
      "+----------+----------------------------------------+\n",
      "|prediction|probability                             |\n",
      "+----------+----------------------------------------+\n",
      "|0.0       |[0.7645581982204195,0.23544180177958057]|\n",
      "|0.0       |[0.9089000961714891,0.09109990382851085]|\n",
      "|0.0       |[0.8704537039407818,0.12954629605921814]|\n",
      "|0.0       |[0.9243273870996591,0.07567261290034084]|\n",
      "|0.0       |[0.8907232587530416,0.10927674124695848]|\n",
      "|0.0       |[0.8931819081196399,0.1068180918803601] |\n",
      "|0.0       |[0.9243273870996591,0.07567261290034084]|\n",
      "|0.0       |[0.9243273870996591,0.07567261290034084]|\n",
      "|0.0       |[0.9243273870996591,0.07567261290034084]|\n",
      "|1.0       |[0.12482651560415134,0.8751734843958486]|\n",
      "|0.0       |[0.9132317787687991,0.08676822123120083]|\n",
      "|0.0       |[0.738473300619086,0.2615266993809141]  |\n",
      "|1.0       |[0.2392817649849699,0.7607182350150301] |\n",
      "|1.0       |[0.2392817649849699,0.7607182350150301] |\n",
      "|0.0       |[0.6575120393850747,0.3424879606149252] |\n",
      "|0.0       |[0.8695810185792225,0.1304189814207774] |\n",
      "|1.0       |[0.06680805506232482,0.9331919449376752]|\n",
      "|1.0       |[0.07315169497183735,0.9268483050281626]|\n",
      "|1.0       |[0.36060921477357405,0.6393907852264259]|\n",
      "|0.0       |[0.7716827413627448,0.22831725863725513]|\n",
      "+----------+----------------------------------------+\n",
      "only showing top 20 rows\n",
      "\n"
     ]
    }
   ],
   "source": [
    "rf_classifier = RandomForestClassifier(featuresCol=\"pca_features\", labelCol=\"class_index\",maxBins=100)\n",
    "\n",
    "# Create a pipeline\n",
    "pipeline = Pipeline(stages=[rf_classifier])\n",
    "\n",
    "# Train the model\n",
    "model_nb = pipeline.fit(trainingData)\n",
    "\n",
    "# Make predictions on the test data\n",
    "rf_predictions = model_nb.transform(testData)\n",
    "\n",
    "# Display predictions\n",
    "print(\"Predictions:\")\n",
    "rf_predictions.select( \"prediction\", \"probability\").show(truncate=False)"
   ]
  },
  {
   "cell_type": "code",
   "execution_count": 25,
   "id": "9b38231e",
   "metadata": {},
   "outputs": [],
   "source": [
    "evaluator = MulticlassClassificationEvaluator(labelCol=\"class_index\", predictionCol=\"prediction\")"
   ]
  },
  {
   "cell_type": "code",
   "execution_count": 26,
   "id": "083124e6",
   "metadata": {},
   "outputs": [
    {
     "data": {
      "text/html": [
       "<div>\n",
       "<style scoped>\n",
       "    .dataframe tbody tr th:only-of-type {\n",
       "        vertical-align: middle;\n",
       "    }\n",
       "\n",
       "    .dataframe tbody tr th {\n",
       "        vertical-align: top;\n",
       "    }\n",
       "\n",
       "    .dataframe thead th {\n",
       "        text-align: right;\n",
       "    }\n",
       "</style>\n",
       "<table border=\"1\" class=\"dataframe\">\n",
       "  <thead>\n",
       "    <tr style=\"text-align: right;\">\n",
       "      <th></th>\n",
       "      <th>Metric</th>\n",
       "      <th>Value</th>\n",
       "    </tr>\n",
       "  </thead>\n",
       "  <tbody>\n",
       "    <tr>\n",
       "      <th>0</th>\n",
       "      <td>Accuracy</td>\n",
       "      <td>96.365791</td>\n",
       "    </tr>\n",
       "    <tr>\n",
       "      <th>1</th>\n",
       "      <td>Precision</td>\n",
       "      <td>96.558205</td>\n",
       "    </tr>\n",
       "    <tr>\n",
       "      <th>2</th>\n",
       "      <td>Recall</td>\n",
       "      <td>96.365791</td>\n",
       "    </tr>\n",
       "    <tr>\n",
       "      <th>3</th>\n",
       "      <td>F1-Score</td>\n",
       "      <td>96.350847</td>\n",
       "    </tr>\n",
       "  </tbody>\n",
       "</table>\n",
       "</div>"
      ],
      "text/plain": [
       "      Metric      Value\n",
       "0   Accuracy  96.365791\n",
       "1  Precision  96.558205\n",
       "2     Recall  96.365791\n",
       "3   F1-Score  96.350847"
      ]
     },
     "execution_count": 26,
     "metadata": {},
     "output_type": "execute_result"
    }
   ],
   "source": [
    "accuracy_rf=evaluator.evaluate(rf_predictions,{evaluator.metricName:\"accuracy\"})\n",
    "precision_rf = evaluator.evaluate(rf_predictions,{evaluator.metricName:\"weightedPrecision\"})\n",
    "recall_rf = evaluator.evaluate(rf_predictions,{evaluator.metricName:\"weightedRecall\"})\n",
    "f1_rf = evaluator.evaluate(rf_predictions,{evaluator.metricName:\"f1\"})\n",
    "table_rf= [(\"Accuracy\", accuracy_rf*100), (\"Precision\", precision_rf*100), (\"Recall\", recall_rf*100), (\"F1-Score\", f1_rf*100)]\n",
    "table_df_rf = pd.DataFrame(table_rf, columns=[\"Metric\", \"Value\"])\n",
    "table_df_rf"
   ]
  },
  {
   "cell_type": "markdown",
   "id": "5a927117",
   "metadata": {},
   "source": [
    "## SVM"
   ]
  },
  {
   "cell_type": "code",
   "execution_count": 27,
   "id": "6df9314b",
   "metadata": {},
   "outputs": [],
   "source": [
    "from pyspark.ml.classification import LinearSVC\n"
   ]
  },
  {
   "cell_type": "code",
   "execution_count": 28,
   "id": "f2f58362",
   "metadata": {},
   "outputs": [
    {
     "name": "stderr",
     "output_type": "stream",
     "text": [
      "                                                                                \r"
     ]
    },
    {
     "name": "stdout",
     "output_type": "stream",
     "text": [
      "Predictions:\n",
      "+-----------+----------+\n",
      "|class_index|prediction|\n",
      "+-----------+----------+\n",
      "|0.0        |1.0       |\n",
      "|0.0        |0.0       |\n",
      "|0.0        |0.0       |\n",
      "|0.0        |0.0       |\n",
      "|0.0        |0.0       |\n",
      "|0.0        |0.0       |\n",
      "|0.0        |0.0       |\n",
      "|0.0        |0.0       |\n",
      "|0.0        |0.0       |\n",
      "|1.0        |0.0       |\n",
      "|0.0        |0.0       |\n",
      "|0.0        |0.0       |\n",
      "|1.0        |1.0       |\n",
      "|1.0        |1.0       |\n",
      "|1.0        |0.0       |\n",
      "|0.0        |0.0       |\n",
      "|1.0        |1.0       |\n",
      "|1.0        |1.0       |\n",
      "|1.0        |1.0       |\n",
      "|0.0        |1.0       |\n",
      "+-----------+----------+\n",
      "only showing top 20 rows\n",
      "\n"
     ]
    }
   ],
   "source": [
    "\n",
    "svm = LinearSVC(featuresCol=\"pca_features\", labelCol=\"class_index\")\n",
    "\n",
    "# Create a pipeline\n",
    "pipeline = Pipeline(stages=[svm])\n",
    "\n",
    "# Train the model\n",
    "model_nb = pipeline.fit(trainingData)\n",
    "\n",
    "# Make predictions on the test data\n",
    "svm_predictions = model_nb.transform(testData)\n",
    "\n",
    "# Display predictions\n",
    "print(\"Predictions:\")\n",
    "svm_predictions.select( \"class_index\",\"prediction\").show(truncate=False)"
   ]
  },
  {
   "cell_type": "code",
   "execution_count": 29,
   "id": "714576d8",
   "metadata": {},
   "outputs": [],
   "source": [
    "evaluator = MulticlassClassificationEvaluator(labelCol=\"class_index\", predictionCol=\"prediction\")"
   ]
  },
  {
   "cell_type": "code",
   "execution_count": 30,
   "id": "5b6ede5e",
   "metadata": {},
   "outputs": [
    {
     "data": {
      "text/html": [
       "<div>\n",
       "<style scoped>\n",
       "    .dataframe tbody tr th:only-of-type {\n",
       "        vertical-align: middle;\n",
       "    }\n",
       "\n",
       "    .dataframe tbody tr th {\n",
       "        vertical-align: top;\n",
       "    }\n",
       "\n",
       "    .dataframe thead th {\n",
       "        text-align: right;\n",
       "    }\n",
       "</style>\n",
       "<table border=\"1\" class=\"dataframe\">\n",
       "  <thead>\n",
       "    <tr style=\"text-align: right;\">\n",
       "      <th></th>\n",
       "      <th>Metric</th>\n",
       "      <th>Value</th>\n",
       "    </tr>\n",
       "  </thead>\n",
       "  <tbody>\n",
       "    <tr>\n",
       "      <th>0</th>\n",
       "      <td>Accuracy</td>\n",
       "      <td>94.212917</td>\n",
       "    </tr>\n",
       "    <tr>\n",
       "      <th>1</th>\n",
       "      <td>Precision</td>\n",
       "      <td>94.212245</td>\n",
       "    </tr>\n",
       "    <tr>\n",
       "      <th>2</th>\n",
       "      <td>Recall</td>\n",
       "      <td>94.212917</td>\n",
       "    </tr>\n",
       "    <tr>\n",
       "      <th>3</th>\n",
       "      <td>F1-Score</td>\n",
       "      <td>94.210265</td>\n",
       "    </tr>\n",
       "  </tbody>\n",
       "</table>\n",
       "</div>"
      ],
      "text/plain": [
       "      Metric      Value\n",
       "0   Accuracy  94.212917\n",
       "1  Precision  94.212245\n",
       "2     Recall  94.212917\n",
       "3   F1-Score  94.210265"
      ]
     },
     "execution_count": 30,
     "metadata": {},
     "output_type": "execute_result"
    }
   ],
   "source": [
    "accuracy_svm=evaluator.evaluate(svm_predictions,{evaluator.metricName:\"accuracy\"})\n",
    "precision_svm = evaluator.evaluate(svm_predictions,{evaluator.metricName:\"weightedPrecision\"})\n",
    "recall_svm = evaluator.evaluate(svm_predictions,{evaluator.metricName:\"weightedRecall\"})\n",
    "f1_svm = evaluator.evaluate(svm_predictions,{evaluator.metricName:\"f1\"})\n",
    "table_svm= [(\"Accuracy\", accuracy_svm*100), (\"Precision\", precision_svm*100), (\"Recall\", recall_svm*100), (\"F1-Score\", f1_svm*100)]\n",
    "table_df_svm = pd.DataFrame(table_svm, columns=[\"Metric\", \"Value\"])\n",
    "table_df_svm"
   ]
  },
  {
   "cell_type": "markdown",
   "id": "0f15f1b5",
   "metadata": {},
   "source": [
    "## MLP"
   ]
  },
  {
   "cell_type": "code",
   "execution_count": 31,
   "id": "b0b9ce4a",
   "metadata": {},
   "outputs": [],
   "source": [
    "from pyspark.sql import SparkSession\n",
    "from pyspark.ml.feature import VectorAssembler\n",
    "from pyspark.ml.classification import MultilayerPerceptronClassifier\n",
    "from pyspark.ml import Pipeline\n",
    "from pyspark.ml.evaluation import MulticlassClassificationEvaluator"
   ]
  },
  {
   "cell_type": "code",
   "execution_count": 32,
   "id": "80716f57",
   "metadata": {},
   "outputs": [
    {
     "name": "stderr",
     "output_type": "stream",
     "text": [
      "                                                                                \r"
     ]
    }
   ],
   "source": [
    "layers = [25, 64, 32, 2]\n",
    "mlp_classifier = MultilayerPerceptronClassifier(layers=layers, seed=1234, labelCol=\"class_index\", featuresCol=\"pca_features\")\n",
    "\n",
    "# Create a pipeline\n",
    "pipeline = Pipeline(stages=[ mlp_classifier])\n",
    "model = pipeline.fit(trainingData)\n",
    "\n",
    "mlp_predictions = model.transform(testData)\n"
   ]
  },
  {
   "cell_type": "code",
   "execution_count": 33,
   "id": "c23d8c7e",
   "metadata": {},
   "outputs": [],
   "source": [
    "evaluator = MulticlassClassificationEvaluator(labelCol=\"class_index\", predictionCol=\"prediction\")"
   ]
  },
  {
   "cell_type": "code",
   "execution_count": 34,
   "id": "006e7231",
   "metadata": {},
   "outputs": [
    {
     "data": {
      "text/html": [
       "<div>\n",
       "<style scoped>\n",
       "    .dataframe tbody tr th:only-of-type {\n",
       "        vertical-align: middle;\n",
       "    }\n",
       "\n",
       "    .dataframe tbody tr th {\n",
       "        vertical-align: top;\n",
       "    }\n",
       "\n",
       "    .dataframe thead th {\n",
       "        text-align: right;\n",
       "    }\n",
       "</style>\n",
       "<table border=\"1\" class=\"dataframe\">\n",
       "  <thead>\n",
       "    <tr style=\"text-align: right;\">\n",
       "      <th></th>\n",
       "      <th>Metric</th>\n",
       "      <th>Value</th>\n",
       "    </tr>\n",
       "  </thead>\n",
       "  <tbody>\n",
       "    <tr>\n",
       "      <th>0</th>\n",
       "      <td>Accuracy</td>\n",
       "      <td>99.249457</td>\n",
       "    </tr>\n",
       "    <tr>\n",
       "      <th>1</th>\n",
       "      <td>Precision</td>\n",
       "      <td>99.249540</td>\n",
       "    </tr>\n",
       "    <tr>\n",
       "      <th>2</th>\n",
       "      <td>Recall</td>\n",
       "      <td>99.249457</td>\n",
       "    </tr>\n",
       "    <tr>\n",
       "      <th>3</th>\n",
       "      <td>F1-Score</td>\n",
       "      <td>99.249483</td>\n",
       "    </tr>\n",
       "  </tbody>\n",
       "</table>\n",
       "</div>"
      ],
      "text/plain": [
       "      Metric      Value\n",
       "0   Accuracy  99.249457\n",
       "1  Precision  99.249540\n",
       "2     Recall  99.249457\n",
       "3   F1-Score  99.249483"
      ]
     },
     "execution_count": 34,
     "metadata": {},
     "output_type": "execute_result"
    }
   ],
   "source": [
    "\n",
    "accuracy_mlp=evaluator.evaluate(mlp_predictions,{evaluator.metricName:\"accuracy\"})\n",
    "precision_mlp = evaluator.evaluate(mlp_predictions,{evaluator.metricName:\"weightedPrecision\"})\n",
    "recall_mlp = evaluator.evaluate(mlp_predictions,{evaluator.metricName:\"weightedRecall\"})\n",
    "f1_mlp= evaluator.evaluate(mlp_predictions,{evaluator.metricName:\"f1\"})\n",
    "table_mlp= [(\"Accuracy\", accuracy_mlp*100), (\"Precision\", precision_mlp*100), (\"Recall\", recall_mlp*100), (\"F1-Score\", f1_mlp*100)]\n",
    "table_df_mlp = pd.DataFrame(table_mlp, columns=[\"Metric\", \"Value\"])\n",
    "table_df_mlp"
   ]
  },
  {
   "cell_type": "markdown",
   "id": "ad4c048a",
   "metadata": {},
   "source": [
    "## Plots"
   ]
  },
  {
   "cell_type": "code",
   "execution_count": 35,
   "id": "5c5e8a47",
   "metadata": {},
   "outputs": [],
   "source": [
    "import matplotlib.pyplot as plt"
   ]
  },
  {
   "cell_type": "code",
   "execution_count": 36,
   "id": "505cadf6",
   "metadata": {},
   "outputs": [],
   "source": [
    "classifiers = ['SVM','Decision Tree' ,'Random Forest','MLP']"
   ]
  },
  {
   "cell_type": "code",
   "execution_count": 37,
   "id": "24f4a0d0",
   "metadata": {},
   "outputs": [
    {
     "data": {
      "image/png": "[encoded data removed]",
      "text/plain": [
       "<Figure size 640x480 with 1 Axes>"
      ]
     },
     "metadata": {},
     "output_type": "display_data"
    }
   ],
   "source": [
    "accuracy_scores = [accuracy_svm,accuracy_tree,accuracy_rf,accuracy_mlp]\n",
    "plt.bar( classifiers,accuracy_scores , color='blue')\n",
    "plt.title('Accuracy Scores')\n",
    "plt.ylabel('Accuracy')\n",
    "plt.show()"
   ]
  },
  {
   "cell_type": "code",
   "execution_count": 44,
   "id": "80e89c36",
   "metadata": {},
   "outputs": [
    {
     "data": {
      "image/png": "[encoded data removed]",
      "text/plain": [
       "<Figure size 640x480 with 1 Axes>"
      ]
     },
     "metadata": {},
     "output_type": "display_data"
    }
   ],
   "source": [
    "import matplotlib.pyplot as plt\n",
    "\n",
    "# Sample data\n",
    "classifiers = [ 'SVM', 'Decision Tree', 'Random Forest', 'MLP']\n",
    "accuracy_scores = [ accuracy_svm*100, accuracy_tree*100, accuracy_rf*100, accuracy_mlp*100]\n",
    "\n",
    "# Create a bar plot\n",
    "plt.bar(classifiers, accuracy_scores, color='blue')\n",
    "plt.title('Accuracy Scores')\n",
    "plt.ylabel('Accuracy')\n",
    "\n",
    "# Set the y-axis range from 60 to 100\n",
    "plt.ylim(90, 100)\n",
    "plt.grid(axis='y', linestyle='--', alpha=0.7)\n",
    "\n",
    "# Adding data labels with higher precision on top of each bar\n",
    "for i, score in enumerate(accuracy_scores):\n",
    "    plt.text(i, score + 0.5, f'{score:.1f}', ha='center', va='bottom', fontsize=10)\n",
    "\n",
    "plt.tight_layout()\n",
    "plt.show()\n"
   ]
  },
  {
   "cell_type": "code",
   "execution_count": 39,
   "id": "b929f67d",
   "metadata": {},
   "outputs": [
    {
     "data": {
      "image/png": "[encoded data removed]",
      "text/plain": [
       "<Figure size 640x480 with 1 Axes>"
      ]
     },
     "metadata": {},
     "output_type": "display_data"
    }
   ],
   "source": [
    "Precision_scores =[precision_svm,precision_tree,precision_rf,precision_mlp]\n",
    "plt.bar( classifiers,Precision_scores , color='red')\n",
    "plt.title('Precision Scores')\n",
    "plt.ylabel('Precision')\n",
    "plt.show()"
   ]
  },
  {
   "cell_type": "code",
   "execution_count": 40,
   "id": "cadbb7ac",
   "metadata": {},
   "outputs": [
    {
     "data": {
      "image/png": "[encoded data removed]",
      "text/plain": [
       "<Figure size 640x480 with 1 Axes>"
      ]
     },
     "metadata": {},
     "output_type": "display_data"
    }
   ],
   "source": [
    "Recall_scores = [recall_svm,recall_tree,recall_rf,precision_mlp]\n",
    "plt.bar( classifiers,Recall_scores , color='orange')\n",
    "plt.title('Recall Scores')\n",
    "plt.ylabel('Recall')\n",
    "plt.show()"
   ]
  },
  {
   "cell_type": "code",
   "execution_count": 41,
   "id": "24b11a1c",
   "metadata": {},
   "outputs": [
    {
     "data": {
      "image/png": "[encoded data removed]",
      "text/plain": [
       "<Figure size 640x480 with 1 Axes>"
      ]
     },
     "metadata": {},
     "output_type": "display_data"
    }
   ],
   "source": [
    "f1_scores = [f1_svm,f1_tree,f1_rf,f1_mlp]\n",
    "plt.bar( classifiers,f1_scores , color='green')\n",
    "plt.title('f1 Scores')\n",
    "plt.ylabel('f1')\n",
    "plt.show()"
   ]
  },
  {
   "cell_type": "code",
   "execution_count": 45,
   "id": "68868fb8",
   "metadata": {},
   "outputs": [
    {
     "data": {
      "image/png": "[encoded data removed]",
      "text/plain": [
       "<Figure size 640x480 with 1 Axes>"
      ]
     },
     "metadata": {},
     "output_type": "display_data"
    }
   ],
   "source": [
    "import matplotlib.pyplot as plt\n",
    "\n",
    "# Sample data\n",
    "classifiers = [ 'SVM', 'Decision Tree', 'Random Forest', 'MLP']\n",
    "f1_scores=[f1_svm*100,f1_tree*100,f1_rf*100,f1_mlp*100]\n",
    "# Create a bar plot\n",
    "plt.bar(classifiers, f1_scores, color='red')\n",
    "plt.title('F1 Scores')\n",
    "plt.ylabel('F1 score')\n",
    "\n",
    "# Set the y-axis range from 60 to 100\n",
    "plt.ylim(60, 100)\n",
    "plt.grid(axis='y', linestyle='--', alpha=0.7)\n",
    "\n",
    "# Adding data labels with higher precision on top of each bar\n",
    "for i, score in enumerate(f1_scores):\n",
    "    plt.text(i, score + 0.5, f'{score:.1f}', ha='center', va='bottom', fontsize=10)\n",
    "\n",
    "plt.tight_layout()\n",
    "plt.show()\n"
   ]
  },
  {
   "cell_type": "code",
   "execution_count": 43,
   "id": "2de80d6f",
   "metadata": {},
   "outputs": [
    {
     "name": "stdout",
     "output_type": "stream",
     "text": [
      "Testing Performances for Machine Learning Algorithms-PCA\n"
     ]
    },
    {
     "data": {
      "text/html": [
       "<div>\n",
       "<style scoped>\n",
       "    .dataframe tbody tr th:only-of-type {\n",
       "        vertical-align: middle;\n",
       "    }\n",
       "\n",
       "    .dataframe tbody tr th {\n",
       "        vertical-align: top;\n",
       "    }\n",
       "\n",
       "    .dataframe thead th {\n",
       "        text-align: right;\n",
       "    }\n",
       "</style>\n",
       "<table border=\"1\" class=\"dataframe\">\n",
       "  <thead>\n",
       "    <tr style=\"text-align: right;\">\n",
       "      <th></th>\n",
       "      <th>Accuracy</th>\n",
       "      <th>Precision</th>\n",
       "      <th>Recall</th>\n",
       "      <th>F1 Score</th>\n",
       "    </tr>\n",
       "    <tr>\n",
       "      <th>Algorithms</th>\n",
       "      <th></th>\n",
       "      <th></th>\n",
       "      <th></th>\n",
       "      <th></th>\n",
       "    </tr>\n",
       "  </thead>\n",
       "  <tbody>\n",
       "    <tr>\n",
       "      <th>SVM</th>\n",
       "      <td>94.212917</td>\n",
       "      <td>94.212245</td>\n",
       "      <td>94.212917</td>\n",
       "      <td>94.210265</td>\n",
       "    </tr>\n",
       "    <tr>\n",
       "      <th>Decision Tree</th>\n",
       "      <td>96.760814</td>\n",
       "      <td>96.772406</td>\n",
       "      <td>96.760814</td>\n",
       "      <td>96.757820</td>\n",
       "    </tr>\n",
       "    <tr>\n",
       "      <th>Random Forest</th>\n",
       "      <td>96.365791</td>\n",
       "      <td>96.558205</td>\n",
       "      <td>96.365791</td>\n",
       "      <td>96.350847</td>\n",
       "    </tr>\n",
       "    <tr>\n",
       "      <th>MLP</th>\n",
       "      <td>99.249457</td>\n",
       "      <td>99.249540</td>\n",
       "      <td>99.249457</td>\n",
       "      <td>99.249483</td>\n",
       "    </tr>\n",
       "  </tbody>\n",
       "</table>\n",
       "</div>"
      ],
      "text/plain": [
       "                Accuracy  Precision     Recall   F1 Score\n",
       "Algorithms                                               \n",
       "SVM            94.212917  94.212245  94.212917  94.210265\n",
       "Decision Tree  96.760814  96.772406  96.760814  96.757820\n",
       "Random Forest  96.365791  96.558205  96.365791  96.350847\n",
       "MLP            99.249457  99.249540  99.249457  99.249483"
      ]
     },
     "execution_count": 43,
     "metadata": {},
     "output_type": "execute_result"
    }
   ],
   "source": [
    "print(\"Testing Performances for Machine Learning Algorithms-PCA\")\n",
    "result = pd.DataFrame({\"Algorithms\": [\"SVM\",\"Decision Tree\" ,\"Random Forest\",\"MLP\"],\n",
    "                       \"Accuracy\":[accuracy_svm,accuracy_tree,accuracy_rf,accuracy_mlp],\n",
    "                       \"Precision\":[precision_svm,precision_tree,precision_rf,precision_mlp],\n",
    "                       \"Recall\":[recall_svm,recall_tree,recall_rf,recall_mlp],\n",
    "                       \"F1 Score\":[f1_svm,f1_tree,f1_rf,f1_mlp]}).set_index('Algorithms')\n",
    "result*100"
   ]
  },
  {
   "cell_type": "code",
   "execution_count": null,
   "id": "d199cfc4",
   "metadata": {},
   "outputs": [],
   "source": []
  },
  {
   "cell_type": "code",
   "execution_count": null,
   "id": "0d45d46f",
   "metadata": {},
   "outputs": [],
   "source": []
  },
  {
   "cell_type": "code",
   "execution_count": null,
   "id": "1af56913",
   "metadata": {},
   "outputs": [],
   "source": []
  }
 ],
 "metadata": {
  "kernelspec": {
   "display_name": "Python 3 (ipykernel)",
   "language": "python",
   "name": "python3"
  },
  "language_info": {
   "codemirror_mode": {
    "name": "ipython",
    "version": 3
   },
   "file_extension": ".py",
   "mimetype": "text/x-python",
   "name": "python",
   "nbconvert_exporter": "python",
   "pygments_lexer": "ipython3",
   "version": "3.11.5"
  }
 },
 "nbformat": 4,
 "nbformat_minor": 5
}
