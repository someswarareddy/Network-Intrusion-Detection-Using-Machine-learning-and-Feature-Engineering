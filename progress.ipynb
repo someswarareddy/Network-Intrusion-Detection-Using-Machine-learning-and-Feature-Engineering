{
 "cells": [
  {
   "cell_type": "markdown",
   "id": "d075dbff",
   "metadata": {},
   "source": [
    "## Network Intrusion Detection"
   ]
  },
  {
   "cell_type": "code",
   "execution_count": 1,
   "id": "0d59a936",
   "metadata": {},
   "outputs": [],
   "source": [
    "import pandas as pd\n",
    "import numpy as np\n",
    "from pyspark.ml.evaluation import BinaryClassificationEvaluator\n",
    "from pyspark.mllib.evaluation import BinaryClassificationMetrics\n",
    "from pyspark.ml.classification import LogisticRegression\n",
    "from pyspark.sql import SparkSession\n",
    "from pyspark.sql.functions import col"
   ]
  },
  {
   "cell_type": "code",
   "execution_count": 2,
   "id": "e03f5263",
   "metadata": {},
   "outputs": [
    {
     "data": {
      "text/html": [
       "<div>\n",
       "<style scoped>\n",
       "    .dataframe tbody tr th:only-of-type {\n",
       "        vertical-align: middle;\n",
       "    }\n",
       "\n",
       "    .dataframe tbody tr th {\n",
       "        vertical-align: top;\n",
       "    }\n",
       "\n",
       "    .dataframe thead th {\n",
       "        text-align: right;\n",
       "    }\n",
       "</style>\n",
       "<table border=\"1\" class=\"dataframe\">\n",
       "  <thead>\n",
       "    <tr style=\"text-align: right;\">\n",
       "      <th></th>\n",
       "      <th>duration</th>\n",
       "      <th>protocol_type</th>\n",
       "      <th>service</th>\n",
       "      <th>flag</th>\n",
       "      <th>src_bytes</th>\n",
       "      <th>dst_bytes</th>\n",
       "      <th>land</th>\n",
       "      <th>wrong_fragment</th>\n",
       "      <th>urgent</th>\n",
       "      <th>hot</th>\n",
       "      <th>...</th>\n",
       "      <th>dst_host_srv_count</th>\n",
       "      <th>dst_host_same_srv_rate</th>\n",
       "      <th>dst_host_diff_srv_rate</th>\n",
       "      <th>dst_host_same_src_port_rate</th>\n",
       "      <th>dst_host_srv_diff_host_rate</th>\n",
       "      <th>dst_host_serror_rate</th>\n",
       "      <th>dst_host_srv_serror_rate</th>\n",
       "      <th>dst_host_rerror_rate</th>\n",
       "      <th>dst_host_srv_rerror_rate</th>\n",
       "      <th>class</th>\n",
       "    </tr>\n",
       "  </thead>\n",
       "  <tbody>\n",
       "    <tr>\n",
       "      <th>0</th>\n",
       "      <td>0</td>\n",
       "      <td>tcp</td>\n",
       "      <td>ftp_data</td>\n",
       "      <td>SF</td>\n",
       "      <td>491</td>\n",
       "      <td>0</td>\n",
       "      <td>0</td>\n",
       "      <td>0</td>\n",
       "      <td>0</td>\n",
       "      <td>0</td>\n",
       "      <td>...</td>\n",
       "      <td>25</td>\n",
       "      <td>0.17</td>\n",
       "      <td>0.03</td>\n",
       "      <td>0.17</td>\n",
       "      <td>0.00</td>\n",
       "      <td>0.00</td>\n",
       "      <td>0.00</td>\n",
       "      <td>0.05</td>\n",
       "      <td>0.00</td>\n",
       "      <td>normal</td>\n",
       "    </tr>\n",
       "    <tr>\n",
       "      <th>1</th>\n",
       "      <td>0</td>\n",
       "      <td>udp</td>\n",
       "      <td>other</td>\n",
       "      <td>SF</td>\n",
       "      <td>146</td>\n",
       "      <td>0</td>\n",
       "      <td>0</td>\n",
       "      <td>0</td>\n",
       "      <td>0</td>\n",
       "      <td>0</td>\n",
       "      <td>...</td>\n",
       "      <td>1</td>\n",
       "      <td>0.00</td>\n",
       "      <td>0.60</td>\n",
       "      <td>0.88</td>\n",
       "      <td>0.00</td>\n",
       "      <td>0.00</td>\n",
       "      <td>0.00</td>\n",
       "      <td>0.00</td>\n",
       "      <td>0.00</td>\n",
       "      <td>normal</td>\n",
       "    </tr>\n",
       "    <tr>\n",
       "      <th>2</th>\n",
       "      <td>0</td>\n",
       "      <td>tcp</td>\n",
       "      <td>private</td>\n",
       "      <td>S0</td>\n",
       "      <td>0</td>\n",
       "      <td>0</td>\n",
       "      <td>0</td>\n",
       "      <td>0</td>\n",
       "      <td>0</td>\n",
       "      <td>0</td>\n",
       "      <td>...</td>\n",
       "      <td>26</td>\n",
       "      <td>0.10</td>\n",
       "      <td>0.05</td>\n",
       "      <td>0.00</td>\n",
       "      <td>0.00</td>\n",
       "      <td>1.00</td>\n",
       "      <td>1.00</td>\n",
       "      <td>0.00</td>\n",
       "      <td>0.00</td>\n",
       "      <td>anomaly</td>\n",
       "    </tr>\n",
       "    <tr>\n",
       "      <th>3</th>\n",
       "      <td>0</td>\n",
       "      <td>tcp</td>\n",
       "      <td>http</td>\n",
       "      <td>SF</td>\n",
       "      <td>232</td>\n",
       "      <td>8153</td>\n",
       "      <td>0</td>\n",
       "      <td>0</td>\n",
       "      <td>0</td>\n",
       "      <td>0</td>\n",
       "      <td>...</td>\n",
       "      <td>255</td>\n",
       "      <td>1.00</td>\n",
       "      <td>0.00</td>\n",
       "      <td>0.03</td>\n",
       "      <td>0.04</td>\n",
       "      <td>0.03</td>\n",
       "      <td>0.01</td>\n",
       "      <td>0.00</td>\n",
       "      <td>0.01</td>\n",
       "      <td>normal</td>\n",
       "    </tr>\n",
       "    <tr>\n",
       "      <th>4</th>\n",
       "      <td>0</td>\n",
       "      <td>tcp</td>\n",
       "      <td>http</td>\n",
       "      <td>SF</td>\n",
       "      <td>199</td>\n",
       "      <td>420</td>\n",
       "      <td>0</td>\n",
       "      <td>0</td>\n",
       "      <td>0</td>\n",
       "      <td>0</td>\n",
       "      <td>...</td>\n",
       "      <td>255</td>\n",
       "      <td>1.00</td>\n",
       "      <td>0.00</td>\n",
       "      <td>0.00</td>\n",
       "      <td>0.00</td>\n",
       "      <td>0.00</td>\n",
       "      <td>0.00</td>\n",
       "      <td>0.00</td>\n",
       "      <td>0.00</td>\n",
       "      <td>normal</td>\n",
       "    </tr>\n",
       "  </tbody>\n",
       "</table>\n",
       "<p>5 rows × 42 columns</p>\n",
       "</div>"
      ],
      "text/plain": [
       "   duration protocol_type   service flag  src_bytes  dst_bytes  land  \\\n",
       "0         0           tcp  ftp_data   SF        491          0     0   \n",
       "1         0           udp     other   SF        146          0     0   \n",
       "2         0           tcp   private   S0          0          0     0   \n",
       "3         0           tcp      http   SF        232       8153     0   \n",
       "4         0           tcp      http   SF        199        420     0   \n",
       "\n",
       "   wrong_fragment  urgent  hot  ...  dst_host_srv_count  \\\n",
       "0               0       0    0  ...                  25   \n",
       "1               0       0    0  ...                   1   \n",
       "2               0       0    0  ...                  26   \n",
       "3               0       0    0  ...                 255   \n",
       "4               0       0    0  ...                 255   \n",
       "\n",
       "   dst_host_same_srv_rate  dst_host_diff_srv_rate  \\\n",
       "0                    0.17                    0.03   \n",
       "1                    0.00                    0.60   \n",
       "2                    0.10                    0.05   \n",
       "3                    1.00                    0.00   \n",
       "4                    1.00                    0.00   \n",
       "\n",
       "   dst_host_same_src_port_rate  dst_host_srv_diff_host_rate  \\\n",
       "0                         0.17                         0.00   \n",
       "1                         0.88                         0.00   \n",
       "2                         0.00                         0.00   \n",
       "3                         0.03                         0.04   \n",
       "4                         0.00                         0.00   \n",
       "\n",
       "   dst_host_serror_rate  dst_host_srv_serror_rate  dst_host_rerror_rate  \\\n",
       "0                  0.00                      0.00                  0.05   \n",
       "1                  0.00                      0.00                  0.00   \n",
       "2                  1.00                      1.00                  0.00   \n",
       "3                  0.03                      0.01                  0.00   \n",
       "4                  0.00                      0.00                  0.00   \n",
       "\n",
       "   dst_host_srv_rerror_rate    class  \n",
       "0                      0.00   normal  \n",
       "1                      0.00   normal  \n",
       "2                      0.00  anomaly  \n",
       "3                      0.01   normal  \n",
       "4                      0.00   normal  \n",
       "\n",
       "[5 rows x 42 columns]"
      ]
     },
     "execution_count": 2,
     "metadata": {},
     "output_type": "execute_result"
    }
   ],
   "source": [
    "data=pd.read_csv('Network.csv')\n",
    "data.head()"
   ]
  },
  {
   "cell_type": "code",
   "execution_count": 3,
   "id": "1798f621",
   "metadata": {},
   "outputs": [
    {
     "data": {
      "text/plain": [
       "(25192, 42)"
      ]
     },
     "execution_count": 3,
     "metadata": {},
     "output_type": "execute_result"
    }
   ],
   "source": [
    "data.shape"
   ]
  },
  {
   "cell_type": "code",
   "execution_count": 4,
   "id": "59a8ed84",
   "metadata": {},
   "outputs": [
    {
     "name": "stdout",
     "output_type": "stream",
     "text": [
      "class\n",
      "normal     13449\n",
      "anomaly    11743\n",
      "Name: count, dtype: int64\n"
     ]
    }
   ],
   "source": [
    "class_counts = data['class'].value_counts()\n",
    "\n",
    "print(class_counts)"
   ]
  },
  {
   "cell_type": "code",
   "execution_count": 5,
   "id": "3f49e5ff",
   "metadata": {},
   "outputs": [
    {
     "data": {
      "image/png": "[encoded data removed]",
      "text/plain": [
       "<Figure size 640x480 with 1 Axes>"
      ]
     },
     "metadata": {},
     "output_type": "display_data"
    }
   ],
   "source": [
    "import matplotlib.pyplot as plt\n",
    "class_counts.plot(kind='bar', rot=0)\n",
    "plt.title('Class Distribution in the Dataset')\n",
    "plt.xlabel('Class')\n",
    "plt.ylabel('Count')\n",
    "plt.show()\n"
   ]
  },
  {
   "cell_type": "code",
   "execution_count": 6,
   "id": "709279f2",
   "metadata": {},
   "outputs": [],
   "source": [
    "import findspark\n",
    "findspark.init()"
   ]
  },
  {
   "cell_type": "code",
   "execution_count": 7,
   "id": "ab62e4da",
   "metadata": {},
   "outputs": [],
   "source": [
    "from pyspark import SparkContext,SparkConf\n",
    "from pyspark.sql import SparkSession"
   ]
  },
  {
   "cell_type": "code",
   "execution_count": 8,
   "id": "9d1cf2e4",
   "metadata": {},
   "outputs": [
    {
     "name": "stderr",
     "output_type": "stream",
     "text": [
      "24/01/06 19:31:08 WARN Utils: Your hostname, Ravis-MacBook-Pro.local resolves to a loopback address: 127.0.0.1; using 192.168.29.245 instead (on interface en0)\n",
      "24/01/06 19:31:08 WARN Utils: Set SPARK_LOCAL_IP if you need to bind to another address\n",
      "Setting default log level to \"WARN\".\n",
      "To adjust logging level use sc.setLogLevel(newLevel). For SparkR, use setLogLevel(newLevel).\n",
      "24/01/06 19:31:08 WARN NativeCodeLoader: Unable to load native-hadoop library for your platform... using builtin-java classes where applicable\n",
      "24/01/06 19:31:09 WARN Utils: Service 'SparkUI' could not bind on port 4040. Attempting port 4041.\n",
      "24/01/06 19:31:09 WARN Utils: Service 'SparkUI' could not bind on port 4041. Attempting port 4042.\n"
     ]
    }
   ],
   "source": [
    "conf = SparkConf().setAppName(\"Example\")\n",
    "sc = SparkContext(conf=conf)"
   ]
  },
  {
   "cell_type": "code",
   "execution_count": 9,
   "id": "eeb7af8c",
   "metadata": {},
   "outputs": [],
   "source": [
    "spark = SparkSession.builder.appName(\"StringIndexerExample\").getOrCreate()\n"
   ]
  },
  {
   "cell_type": "code",
   "execution_count": 10,
   "id": "1ef0e39a",
   "metadata": {},
   "outputs": [
    {
     "data": {
      "text/plain": [
       "['duration',\n",
       " 'protocol_type',\n",
       " 'service',\n",
       " 'flag',\n",
       " 'src_bytes',\n",
       " 'dst_bytes',\n",
       " 'land',\n",
       " 'wrong_fragment',\n",
       " 'urgent',\n",
       " 'hot',\n",
       " 'num_failed_logins',\n",
       " 'logged_in',\n",
       " 'num_compromised',\n",
       " 'root_shell',\n",
       " 'su_attempted',\n",
       " 'num_root',\n",
       " 'num_file_creations',\n",
       " 'num_shells',\n",
       " 'num_access_files',\n",
       " 'num_outbound_cmds',\n",
       " 'is_host_login',\n",
       " 'is_guest_login',\n",
       " 'count',\n",
       " 'srv_count',\n",
       " 'serror_rate',\n",
       " 'srv_serror_rate',\n",
       " 'rerror_rate',\n",
       " 'srv_rerror_rate',\n",
       " 'same_srv_rate',\n",
       " 'diff_srv_rate',\n",
       " 'srv_diff_host_rate',\n",
       " 'dst_host_count',\n",
       " 'dst_host_srv_count',\n",
       " 'dst_host_same_srv_rate',\n",
       " 'dst_host_diff_srv_rate',\n",
       " 'dst_host_same_src_port_rate',\n",
       " 'dst_host_srv_diff_host_rate',\n",
       " 'dst_host_serror_rate',\n",
       " 'dst_host_srv_serror_rate',\n",
       " 'dst_host_rerror_rate',\n",
       " 'dst_host_srv_rerror_rate',\n",
       " 'class']"
      ]
     },
     "execution_count": 10,
     "metadata": {},
     "output_type": "execute_result"
    }
   ],
   "source": [
    "column_names = data.columns.tolist()\n",
    "column_names"
   ]
  },
  {
   "cell_type": "markdown",
   "id": "6fd3f7a4",
   "metadata": {},
   "source": [
    "## Percentage Of Zeros in Each Column"
   ]
  },
  {
   "cell_type": "code",
   "execution_count": 11,
   "id": "1c510d0d",
   "metadata": {},
   "outputs": [
    {
     "name": "stdout",
     "output_type": "stream",
     "text": [
      "Percentage of Zero Values in Each Column:\n",
      "duration                        91.965703\n",
      "protocol_type                    0.000000\n",
      "service                          0.000000\n",
      "flag                             0.000000\n",
      "src_bytes                       39.163226\n",
      "dst_bytes                       53.882185\n",
      "land                            99.992061\n",
      "wrong_fragment                  99.110829\n",
      "urgent                          99.996030\n",
      "hot                             97.935853\n",
      "num_failed_logins               99.908701\n",
      "logged_in                       60.523182\n",
      "num_compromised                 98.920292\n",
      "root_shell                      99.845189\n",
      "su_attempted                    99.916640\n",
      "num_root                        99.468085\n",
      "num_file_creations              99.738012\n",
      "num_shells                      99.964274\n",
      "num_access_files                99.686408\n",
      "num_outbound_cmds              100.000000\n",
      "is_host_login                  100.000000\n",
      "is_guest_login                  99.087012\n",
      "count                            0.000000\n",
      "srv_count                        0.000000\n",
      "serror_rate                     68.787710\n",
      "srv_serror_rate                 70.292156\n",
      "rerror_rate                     87.269768\n",
      "srv_rerror_rate                 87.166561\n",
      "same_srv_rate                    2.155446\n",
      "diff_srv_rate                   60.515243\n",
      "srv_diff_host_rate              77.473007\n",
      "dst_host_count                   0.003970\n",
      "dst_host_srv_count               0.003970\n",
      "dst_host_same_srv_rate           5.473960\n",
      "dst_host_diff_srv_rate          37.087171\n",
      "dst_host_same_src_port_rate     50.305653\n",
      "dst_host_srv_diff_host_rate     69.017942\n",
      "dst_host_serror_rate            64.389489\n",
      "dst_host_srv_serror_rate        67.501588\n",
      "dst_host_rerror_rate            82.121308\n",
      "dst_host_srv_rerror_rate        84.745157\n",
      "class                            0.000000\n",
      "dtype: float64\n"
     ]
    }
   ],
   "source": [
    "zero_percentage = (data == 0).mean() * 100\n",
    "print(\"Percentage of Zero Values in Each Column:\")\n",
    "print(zero_percentage)\n"
   ]
  },
  {
   "cell_type": "markdown",
   "id": "66fd7752",
   "metadata": {},
   "source": [
    "## STRING INDEXER"
   ]
  },
  {
   "cell_type": "code",
   "execution_count": 12,
   "id": "0428d6c3",
   "metadata": {},
   "outputs": [],
   "source": [
    "from pyspark.sql import SparkSession\n",
    "from pyspark.ml.feature import StringIndexer, VectorAssembler\n",
    "from pyspark.ml import Pipeline\n"
   ]
  },
  {
   "cell_type": "code",
   "execution_count": 13,
   "id": "54966bc4",
   "metadata": {},
   "outputs": [
    {
     "name": "stderr",
     "output_type": "stream",
     "text": [
      "24/01/06 19:31:16 WARN SparkStringUtils: Truncated the string representation of a plan since it was too large. This behavior can be adjusted by setting 'spark.sql.debug.maxToStringFields'.\n",
      "24/01/06 19:31:19 WARN GarbageCollectionMetrics: To enable non-built-in garbage collector(s) List(G1 Concurrent GC), users should configure it(them) to spark.eventLog.gcMetrics.youngGenerationGarbageCollectors or spark.eventLog.gcMetrics.oldGenerationGarbageCollectors\n",
      "                                                                                \r"
     ]
    },
    {
     "name": "stdout",
     "output_type": "stream",
     "text": [
      "+-------------+----------+----+-------+-------------------+-------------+----------+-----------+------------------+\n",
      "|protocol_type|service   |flag|class  |protocol_type_index|service_index|flag_index|class_index|features          |\n",
      "+-------------+----------+----+-------+-------------------+-------------+----------+-----------+------------------+\n",
      "|tcp          |ftp_data  |SF  |normal |0.0                |4.0          |0.0       |0.0        |(4,[1],[4.0])     |\n",
      "|udp          |other     |SF  |normal |1.0                |6.0          |0.0       |0.0        |[1.0,6.0,0.0,0.0] |\n",
      "|tcp          |private   |S0  |anomaly|0.0                |1.0          |1.0       |1.0        |[0.0,1.0,1.0,1.0] |\n",
      "|tcp          |http      |SF  |normal |0.0                |0.0          |0.0       |0.0        |(4,[],[])         |\n",
      "|tcp          |http      |SF  |normal |0.0                |0.0          |0.0       |0.0        |(4,[],[])         |\n",
      "|tcp          |private   |REJ |anomaly|0.0                |1.0          |2.0       |1.0        |[0.0,1.0,2.0,1.0] |\n",
      "|tcp          |private   |S0  |anomaly|0.0                |1.0          |1.0       |1.0        |[0.0,1.0,1.0,1.0] |\n",
      "|tcp          |private   |S0  |anomaly|0.0                |1.0          |1.0       |1.0        |[0.0,1.0,1.0,1.0] |\n",
      "|tcp          |remote_job|S0  |anomaly|0.0                |58.0         |1.0       |1.0        |[0.0,58.0,1.0,1.0]|\n",
      "|tcp          |private   |S0  |anomaly|0.0                |1.0          |1.0       |1.0        |[0.0,1.0,1.0,1.0] |\n",
      "|tcp          |private   |REJ |anomaly|0.0                |1.0          |2.0       |1.0        |[0.0,1.0,2.0,1.0] |\n",
      "|tcp          |private   |S0  |anomaly|0.0                |1.0          |1.0       |1.0        |[0.0,1.0,1.0,1.0] |\n",
      "|tcp          |http      |SF  |normal |0.0                |0.0          |0.0       |0.0        |(4,[],[])         |\n",
      "|tcp          |ftp_data  |SF  |anomaly|0.0                |4.0          |0.0       |1.0        |[0.0,4.0,0.0,1.0] |\n",
      "|tcp          |name      |S0  |anomaly|0.0                |35.0         |1.0       |1.0        |[0.0,35.0,1.0,1.0]|\n",
      "|tcp          |netbios_ns|S0  |anomaly|0.0                |44.0         |1.0       |1.0        |[0.0,44.0,1.0,1.0]|\n",
      "|tcp          |http      |SF  |normal |0.0                |0.0          |0.0       |0.0        |(4,[],[])         |\n",
      "|icmp         |eco_i     |SF  |anomaly|2.0                |5.0          |0.0       |1.0        |[2.0,5.0,0.0,1.0] |\n",
      "|tcp          |http      |SF  |normal |0.0                |0.0          |0.0       |0.0        |(4,[],[])         |\n",
      "|tcp          |http      |SF  |normal |0.0                |0.0          |0.0       |0.0        |(4,[],[])         |\n",
      "+-------------+----------+----+-------+-------------------+-------------+----------+-----------+------------------+\n",
      "only showing top 20 rows\n",
      "\n"
     ]
    }
   ],
   "source": [
    "df = spark.createDataFrame(data, column_names)\n",
    "\n",
    "\n",
    "columns_to_index = [\"protocol_type\", \"service\", \"flag\",'class']\n",
    "\n",
    "indexers = [StringIndexer(inputCol=col, outputCol=col + \"_index\", handleInvalid=\"skip\") for col in columns_to_index]\n",
    "\n",
    "assembler = VectorAssembler(inputCols=[indexer.getOutputCol() for indexer in indexers], outputCol=\"features\")\n",
    "\n",
    "pipeline = Pipeline(stages=indexers + [assembler])\n",
    "\n",
    "indexed_data = pipeline.fit(df).transform(df)\n",
    "indexed_data.select(\"protocol_type\", \"service\", \"flag\",'class',\"protocol_type_index\", \"service_index\", \"flag_index\",'class_index', \"features\").show(truncate=False)\n",
    "\n"
   ]
  },
  {
   "cell_type": "code",
   "execution_count": 14,
   "id": "747fd321",
   "metadata": {},
   "outputs": [
    {
     "name": "stdout",
     "output_type": "stream",
     "text": [
      "+--------+---------+---------+----+--------------+------+---+-----------------+---------+---------------+----------+------------+--------+------------------+----------+----------------+-----------------+-------------+--------------+-----+---------+-----------+---------------+-----------+---------------+-------------+-------------+------------------+--------------+------------------+----------------------+----------------------+---------------------------+---------------------------+--------------------+------------------------+--------------------+------------------------+-------------------+-------------+----------+-----------+\n",
      "|duration|src_bytes|dst_bytes|land|wrong_fragment|urgent|hot|num_failed_logins|logged_in|num_compromised|root_shell|su_attempted|num_root|num_file_creations|num_shells|num_access_files|num_outbound_cmds|is_host_login|is_guest_login|count|srv_count|serror_rate|srv_serror_rate|rerror_rate|srv_rerror_rate|same_srv_rate|diff_srv_rate|srv_diff_host_rate|dst_host_count|dst_host_srv_count|dst_host_same_srv_rate|dst_host_diff_srv_rate|dst_host_same_src_port_rate|dst_host_srv_diff_host_rate|dst_host_serror_rate|dst_host_srv_serror_rate|dst_host_rerror_rate|dst_host_srv_rerror_rate|protocol_type_index|service_index|flag_index|class_index|\n",
      "+--------+---------+---------+----+--------------+------+---+-----------------+---------+---------------+----------+------------+--------+------------------+----------+----------------+-----------------+-------------+--------------+-----+---------+-----------+---------------+-----------+---------------+-------------+-------------+------------------+--------------+------------------+----------------------+----------------------+---------------------------+---------------------------+--------------------+------------------------+--------------------+------------------------+-------------------+-------------+----------+-----------+\n",
      "|       0|      491|        0|   0|             0|     0|  0|                0|        0|              0|         0|           0|       0|                 0|         0|               0|                0|            0|             0|    2|        2|        0.0|            0.0|        0.0|            0.0|          1.0|          0.0|               0.0|           150|                25|                  0.17|                  0.03|                       0.17|                        0.0|                 0.0|                     0.0|                0.05|                     0.0|                0.0|          4.0|       0.0|        0.0|\n",
      "|       0|      146|        0|   0|             0|     0|  0|                0|        0|              0|         0|           0|       0|                 0|         0|               0|                0|            0|             0|   13|        1|        0.0|            0.0|        0.0|            0.0|         0.08|         0.15|               0.0|           255|                 1|                   0.0|                   0.6|                       0.88|                        0.0|                 0.0|                     0.0|                 0.0|                     0.0|                1.0|          6.0|       0.0|        0.0|\n",
      "|       0|        0|        0|   0|             0|     0|  0|                0|        0|              0|         0|           0|       0|                 0|         0|               0|                0|            0|             0|  123|        6|        1.0|            1.0|        0.0|            0.0|         0.05|         0.07|               0.0|           255|                26|                   0.1|                  0.05|                        0.0|                        0.0|                 1.0|                     1.0|                 0.0|                     0.0|                0.0|          1.0|       1.0|        1.0|\n",
      "|       0|      232|     8153|   0|             0|     0|  0|                0|        1|              0|         0|           0|       0|                 0|         0|               0|                0|            0|             0|    5|        5|        0.2|            0.2|        0.0|            0.0|          1.0|          0.0|               0.0|            30|               255|                   1.0|                   0.0|                       0.03|                       0.04|                0.03|                    0.01|                 0.0|                    0.01|                0.0|          0.0|       0.0|        0.0|\n",
      "|       0|      199|      420|   0|             0|     0|  0|                0|        1|              0|         0|           0|       0|                 0|         0|               0|                0|            0|             0|   30|       32|        0.0|            0.0|        0.0|            0.0|          1.0|          0.0|              0.09|           255|               255|                   1.0|                   0.0|                        0.0|                        0.0|                 0.0|                     0.0|                 0.0|                     0.0|                0.0|          0.0|       0.0|        0.0|\n",
      "+--------+---------+---------+----+--------------+------+---+-----------------+---------+---------------+----------+------------+--------+------------------+----------+----------------+-----------------+-------------+--------------+-----+---------+-----------+---------------+-----------+---------------+-------------+-------------+------------------+--------------+------------------+----------------------+----------------------+---------------------------+---------------------------+--------------------+------------------------+--------------------+------------------------+-------------------+-------------+----------+-----------+\n",
      "only showing top 5 rows\n",
      "\n"
     ]
    }
   ],
   "source": [
    "columns_to_drop = [\"protocol_type\", \"service\", \"flag\",'class','features']\n",
    "\n",
    "indexed_data  = indexed_data .drop(*columns_to_drop)\n",
    "\n",
    "indexed_data.show(5)\n"
   ]
  },
  {
   "cell_type": "markdown",
   "id": "6834d15a",
   "metadata": {},
   "source": [
    "## Label and Data Division "
   ]
  },
  {
   "cell_type": "code",
   "execution_count": 15,
   "id": "082163fb",
   "metadata": {},
   "outputs": [
    {
     "name": "stdout",
     "output_type": "stream",
     "text": [
      "Features:\n",
      "DataFrame[duration: bigint, src_bytes: bigint, dst_bytes: bigint, land: bigint, wrong_fragment: bigint, urgent: bigint, hot: bigint, num_failed_logins: bigint, logged_in: bigint, num_compromised: bigint, root_shell: bigint, su_attempted: bigint, num_root: bigint, num_file_creations: bigint, num_shells: bigint, num_access_files: bigint, num_outbound_cmds: bigint, is_host_login: bigint, is_guest_login: bigint, count: bigint, srv_count: bigint, serror_rate: double, srv_serror_rate: double, rerror_rate: double, srv_rerror_rate: double, same_srv_rate: double, diff_srv_rate: double, srv_diff_host_rate: double, dst_host_count: bigint, dst_host_srv_count: bigint, dst_host_same_srv_rate: double, dst_host_diff_srv_rate: double, dst_host_same_src_port_rate: double, dst_host_srv_diff_host_rate: double, dst_host_serror_rate: double, dst_host_srv_serror_rate: double, dst_host_rerror_rate: double, dst_host_srv_rerror_rate: double, protocol_type_index: double, service_index: double, flag_index: double]\n",
      "\n",
      "Labels:\n",
      "Column<'class_index'>\n"
     ]
    }
   ],
   "source": [
    "features = indexed_data.drop(*['class_index']) \n",
    "labels = indexed_data['class_index']      \n",
    "\n",
    "print(\"Features:\")\n",
    "print(features)\n",
    "\n",
    "print(\"\\nLabels:\")\n",
    "print(labels)"
   ]
  },
  {
   "cell_type": "markdown",
   "id": "5c86d235",
   "metadata": {},
   "source": [
    "## Train-Test Split"
   ]
  },
  {
   "cell_type": "code",
   "execution_count": 16,
   "id": "06b4e3d3",
   "metadata": {},
   "outputs": [],
   "source": [
    "train_data, test_data =indexed_data .randomSplit([0.8, 0.2], seed=42)\n"
   ]
  },
  {
   "cell_type": "code",
   "execution_count": 17,
   "id": "f0e90467",
   "metadata": {},
   "outputs": [
    {
     "name": "stdout",
     "output_type": "stream",
     "text": [
      "Features:\n",
      "DataFrame[duration: bigint, src_bytes: bigint, dst_bytes: bigint, land: bigint, wrong_fragment: bigint, urgent: bigint, hot: bigint, num_failed_logins: bigint, logged_in: bigint, num_compromised: bigint, root_shell: bigint, su_attempted: bigint, num_root: bigint, num_file_creations: bigint, num_shells: bigint, num_access_files: bigint, num_outbound_cmds: bigint, is_host_login: bigint, is_guest_login: bigint, count: bigint, srv_count: bigint, serror_rate: double, srv_serror_rate: double, rerror_rate: double, srv_rerror_rate: double, same_srv_rate: double, diff_srv_rate: double, srv_diff_host_rate: double, dst_host_count: bigint, dst_host_srv_count: bigint, dst_host_same_srv_rate: double, dst_host_diff_srv_rate: double, dst_host_same_src_port_rate: double, dst_host_srv_diff_host_rate: double, dst_host_serror_rate: double, dst_host_srv_serror_rate: double, dst_host_rerror_rate: double, dst_host_srv_rerror_rate: double, protocol_type_index: double, service_index: double, flag_index: double]\n",
      "\n",
      "Labels:\n",
      "Column<'class_index'>\n"
     ]
    }
   ],
   "source": [
    "labels_train =train_data ['class_index']  \n",
    "features_train = train_data.drop('class_index') \n",
    "    \n",
    "\n",
    "print(\"Features:\")\n",
    "print(features_train)\n",
    "\n",
    "print(\"\\nLabels:\")\n",
    "print(labels_train)"
   ]
  },
  {
   "cell_type": "code",
   "execution_count": 18,
   "id": "73f395d3",
   "metadata": {},
   "outputs": [
    {
     "name": "stdout",
     "output_type": "stream",
     "text": [
      "Features:\n",
      "DataFrame[duration: bigint, src_bytes: bigint, dst_bytes: bigint, land: bigint, wrong_fragment: bigint, urgent: bigint, hot: bigint, num_failed_logins: bigint, logged_in: bigint, num_compromised: bigint, root_shell: bigint, su_attempted: bigint, num_root: bigint, num_file_creations: bigint, num_shells: bigint, num_access_files: bigint, num_outbound_cmds: bigint, is_host_login: bigint, is_guest_login: bigint, count: bigint, srv_count: bigint, serror_rate: double, srv_serror_rate: double, rerror_rate: double, srv_rerror_rate: double, same_srv_rate: double, diff_srv_rate: double, srv_diff_host_rate: double, dst_host_count: bigint, dst_host_srv_count: bigint, dst_host_same_srv_rate: double, dst_host_diff_srv_rate: double, dst_host_same_src_port_rate: double, dst_host_srv_diff_host_rate: double, dst_host_serror_rate: double, dst_host_srv_serror_rate: double, dst_host_rerror_rate: double, dst_host_srv_rerror_rate: double, protocol_type_index: double, service_index: double, flag_index: double]\n",
      "\n",
      "Labels:\n",
      "Column<'class_index'>\n"
     ]
    }
   ],
   "source": [
    "labels_test =test_data ['class_index']  \n",
    "features_test = test_data.drop('class_index') \n",
    "    \n",
    "\n",
    "print(\"Features:\")\n",
    "print(features_test)\n",
    "\n",
    "print(\"\\nLabels:\")\n",
    "print(labels_test)"
   ]
  },
  {
   "cell_type": "markdown",
   "id": "bcfa3be7",
   "metadata": {},
   "source": [
    "## Classification"
   ]
  },
  {
   "cell_type": "code",
   "execution_count": 19,
   "id": "dda3d0a7",
   "metadata": {},
   "outputs": [],
   "source": [
    "feature_cols=['duration',\n",
    " 'protocol_type_index',\n",
    " 'service_index',\n",
    " 'flag_index',\n",
    " 'src_bytes',\n",
    " 'dst_bytes',\n",
    " 'land',\n",
    " 'wrong_fragment',\n",
    " 'urgent',\n",
    " 'hot',\n",
    " 'num_failed_logins',\n",
    " 'logged_in',\n",
    " 'num_compromised',\n",
    " 'root_shell',\n",
    " 'su_attempted',\n",
    " 'num_root',\n",
    " 'num_file_creations',\n",
    " 'num_shells',\n",
    " 'num_access_files',\n",
    " 'num_outbound_cmds',\n",
    " 'is_host_login',\n",
    " 'is_guest_login',\n",
    " 'count',\n",
    " 'srv_count',\n",
    " 'serror_rate',\n",
    " 'srv_serror_rate',\n",
    " 'rerror_rate',\n",
    " 'srv_rerror_rate',\n",
    " 'same_srv_rate',\n",
    " 'diff_srv_rate',\n",
    " 'srv_diff_host_rate',\n",
    " 'dst_host_count',\n",
    " 'dst_host_srv_count',\n",
    " 'dst_host_same_srv_rate',\n",
    " 'dst_host_diff_srv_rate',\n",
    " 'dst_host_same_src_port_rate',\n",
    " 'dst_host_srv_diff_host_rate',\n",
    " 'dst_host_serror_rate',\n",
    " 'dst_host_srv_serror_rate',\n",
    " 'dst_host_rerror_rate',\n",
    " 'dst_host_srv_rerror_rate',]"
   ]
  },
  {
   "cell_type": "markdown",
   "id": "758ccfa1",
   "metadata": {},
   "source": [
    "## Vector Assembler"
   ]
  },
  {
   "cell_type": "code",
   "execution_count": 20,
   "id": "433f6586",
   "metadata": {},
   "outputs": [],
   "source": [
    "feature_assembler = VectorAssembler(\n",
    "    inputCols=feature_cols,\n",
    "    outputCol=\"features\"\n",
    ")"
   ]
  },
  {
   "cell_type": "markdown",
   "id": "94b041ab",
   "metadata": {},
   "source": [
    "## Random Forest"
   ]
  },
  {
   "cell_type": "code",
   "execution_count": 21,
   "id": "534b9b0e",
   "metadata": {},
   "outputs": [],
   "source": [
    "from pyspark.ml.classification import RandomForestClassifier\n",
    "from pyspark.ml.feature import StringIndexer, VectorAssembler\n",
    "from pyspark.ml.evaluation import BinaryClassificationEvaluator,MulticlassClassificationEvaluator\n"
   ]
  },
  {
   "cell_type": "code",
   "execution_count": 22,
   "id": "92e11e49",
   "metadata": {},
   "outputs": [
    {
     "name": "stderr",
     "output_type": "stream",
     "text": [
      "                                                                                \r"
     ]
    }
   ],
   "source": [
    "rf_classifier = RandomForestClassifier(labelCol=\"class_index\", featuresCol=\"features\", maxBins=100)\n",
    "pipeline = Pipeline(stages=[feature_assembler, rf_classifier])\n",
    "\n",
    "train_data, test_data = indexed_data.randomSplit([0.7, 0.3], seed=42)\n",
    "\n",
    "model = pipeline.fit(train_data)\n",
    "\n",
    "rf_predictions = model.transform(test_data)"
   ]
  },
  {
   "cell_type": "code",
   "execution_count": 23,
   "id": "4ace0499",
   "metadata": {},
   "outputs": [],
   "source": [
    "evaluator = MulticlassClassificationEvaluator(labelCol=\"class_index\", predictionCol=\"prediction\")"
   ]
  },
  {
   "cell_type": "code",
   "execution_count": 24,
   "id": "3ee074f1",
   "metadata": {},
   "outputs": [
    {
     "name": "stderr",
     "output_type": "stream",
     "text": [
      "\r",
      "[Stage 28:>                                                         (0 + 8) / 8]\r",
      "\r",
      "                                                                                \r"
     ]
    },
    {
     "data": {
      "text/html": [
       "<div>\n",
       "<style scoped>\n",
       "    .dataframe tbody tr th:only-of-type {\n",
       "        vertical-align: middle;\n",
       "    }\n",
       "\n",
       "    .dataframe tbody tr th {\n",
       "        vertical-align: top;\n",
       "    }\n",
       "\n",
       "    .dataframe thead th {\n",
       "        text-align: right;\n",
       "    }\n",
       "</style>\n",
       "<table border=\"1\" class=\"dataframe\">\n",
       "  <thead>\n",
       "    <tr style=\"text-align: right;\">\n",
       "      <th></th>\n",
       "      <th>Metric</th>\n",
       "      <th>Value</th>\n",
       "    </tr>\n",
       "  </thead>\n",
       "  <tbody>\n",
       "    <tr>\n",
       "      <th>0</th>\n",
       "      <td>Accuracy</td>\n",
       "      <td>98.638997</td>\n",
       "    </tr>\n",
       "    <tr>\n",
       "      <th>1</th>\n",
       "      <td>Precision</td>\n",
       "      <td>98.655902</td>\n",
       "    </tr>\n",
       "    <tr>\n",
       "      <th>2</th>\n",
       "      <td>Recall</td>\n",
       "      <td>98.638997</td>\n",
       "    </tr>\n",
       "    <tr>\n",
       "      <th>3</th>\n",
       "      <td>F1-Score</td>\n",
       "      <td>98.637816</td>\n",
       "    </tr>\n",
       "  </tbody>\n",
       "</table>\n",
       "</div>"
      ],
      "text/plain": [
       "      Metric      Value\n",
       "0   Accuracy  98.638997\n",
       "1  Precision  98.655902\n",
       "2     Recall  98.638997\n",
       "3   F1-Score  98.637816"
      ]
     },
     "execution_count": 24,
     "metadata": {},
     "output_type": "execute_result"
    }
   ],
   "source": [
    "accuracy_rf=evaluator.evaluate(rf_predictions,{evaluator.metricName:\"accuracy\"})\n",
    "precision_rf = evaluator.evaluate(rf_predictions,{evaluator.metricName:\"weightedPrecision\"})\n",
    "recall_rf = evaluator.evaluate(rf_predictions,{evaluator.metricName:\"weightedRecall\"})\n",
    "f1_rf = evaluator.evaluate(rf_predictions,{evaluator.metricName:\"f1\"})\n",
    "table_rf= [(\"Accuracy\", accuracy_rf*100), (\"Precision\", precision_rf*100), (\"Recall\", recall_rf*100), (\"F1-Score\", f1_rf*100)]\n",
    "table_df_rf = pd.DataFrame(table_rf, columns=[\"Metric\", \"Value\"])\n",
    "table_df_rf"
   ]
  },
  {
   "cell_type": "code",
   "execution_count": 25,
   "id": "dc33defb",
   "metadata": {},
   "outputs": [
    {
     "name": "stdout",
     "output_type": "stream",
     "text": [
      "Area Under ROC (AUC): 0.9993007091632639\n"
     ]
    },
    {
     "name": "stderr",
     "output_type": "stream",
     "text": [
      "\r",
      "[Stage 47:>                                                         (0 + 8) / 8]\r",
      "\r",
      "                                                                                \r"
     ]
    },
    {
     "data": {
      "image/png": "[encoded data removed]",
      "text/plain": [
       "<Figure size 800x600 with 1 Axes>"
      ]
     },
     "metadata": {},
     "output_type": "display_data"
    }
   ],
   "source": [
    "from pyspark.ml.classification import RandomForestClassifier\n",
    "from pyspark.ml import Pipeline\n",
    "from pyspark.ml.feature import VectorAssembler, StringIndexer\n",
    "from pyspark.ml.evaluation import BinaryClassificationEvaluator\n",
    "from pyspark.mllib.evaluation import BinaryClassificationMetrics\n",
    "import matplotlib.pyplot as plt\n",
    "import numpy as np\n",
    "\n",
    "evaluator_roc = BinaryClassificationEvaluator(rawPredictionCol=\"probability\", labelCol=\"class_index\", metricName=\"areaUnderROC\")\n",
    "roc_auc = evaluator_roc.evaluate(rf_predictions)\n",
    "print(\"Area Under ROC (AUC):\", roc_auc)\n",
    "\n",
    "# Plot ROC Curve\n",
    "roc = model.stages[-1].summary.roc.toPandas()\n",
    "plt.figure(figsize=(8, 6))\n",
    "plt.plot(roc['FPR'], roc['TPR'], label=f'AUC = {roc_auc:.2f}')\n",
    "plt.plot([0, 1], [0, 1], 'k--')\n",
    "plt.xlim([0.0, 1.0])\n",
    "plt.ylim([0.0, 1.0])\n",
    "plt.xlabel('False Positive Rate (FPR)')\n",
    "plt.ylabel('True Positive Rate (TPR)')\n",
    "plt.title('Receiver Operating Characteristic (ROC) Curve')\n",
    "plt.legend(loc=\"lower right\")\n",
    "plt.show()"
   ]
  },
  {
   "cell_type": "markdown",
   "id": "6b856635",
   "metadata": {},
   "source": [
    "## SVM"
   ]
  },
  {
   "cell_type": "code",
   "execution_count": 26,
   "id": "2d464075",
   "metadata": {},
   "outputs": [],
   "source": [
    "from pyspark.ml.classification import LinearSVC\n"
   ]
  },
  {
   "cell_type": "code",
   "execution_count": 27,
   "id": "2dd430a0",
   "metadata": {},
   "outputs": [
    {
     "name": "stderr",
     "output_type": "stream",
     "text": [
      "24/01/06 19:31:36 WARN InstanceBuilder: Failed to load implementation from:dev.ludovic.netlib.blas.JNIBLAS\n",
      "24/01/06 19:31:36 WARN InstanceBuilder: Failed to load implementation from:dev.ludovic.netlib.blas.VectorBLAS\n"
     ]
    }
   ],
   "source": [
    "svm = LinearSVC(labelCol=\"class_index\", featuresCol=\"features\")\n",
    "pipeline = Pipeline(stages=[feature_assembler, svm])\n",
    "model = pipeline.fit(train_data)\n",
    "\n",
    "svm_predictions = model.transform(test_data)"
   ]
  },
  {
   "cell_type": "code",
   "execution_count": 28,
   "id": "0f1656cf",
   "metadata": {},
   "outputs": [],
   "source": [
    "evaluator = MulticlassClassificationEvaluator(labelCol=\"class_index\", predictionCol=\"prediction\")"
   ]
  },
  {
   "cell_type": "code",
   "execution_count": 29,
   "id": "ec125a0f",
   "metadata": {},
   "outputs": [
    {
     "name": "stderr",
     "output_type": "stream",
     "text": [
      "\r",
      "[Stage 758:===================================>                     (5 + 3) / 8]\r",
      "\r",
      "                                                                                \r"
     ]
    },
    {
     "data": {
      "text/html": [
       "<div>\n",
       "<style scoped>\n",
       "    .dataframe tbody tr th:only-of-type {\n",
       "        vertical-align: middle;\n",
       "    }\n",
       "\n",
       "    .dataframe tbody tr th {\n",
       "        vertical-align: top;\n",
       "    }\n",
       "\n",
       "    .dataframe thead th {\n",
       "        text-align: right;\n",
       "    }\n",
       "</style>\n",
       "<table border=\"1\" class=\"dataframe\">\n",
       "  <thead>\n",
       "    <tr style=\"text-align: right;\">\n",
       "      <th></th>\n",
       "      <th>Metric</th>\n",
       "      <th>Value</th>\n",
       "    </tr>\n",
       "  </thead>\n",
       "  <tbody>\n",
       "    <tr>\n",
       "      <th>0</th>\n",
       "      <td>Accuracy</td>\n",
       "      <td>95.351031</td>\n",
       "    </tr>\n",
       "    <tr>\n",
       "      <th>1</th>\n",
       "      <td>Precision</td>\n",
       "      <td>95.366708</td>\n",
       "    </tr>\n",
       "    <tr>\n",
       "      <th>2</th>\n",
       "      <td>Recall</td>\n",
       "      <td>95.351031</td>\n",
       "    </tr>\n",
       "    <tr>\n",
       "      <th>3</th>\n",
       "      <td>F1-Score</td>\n",
       "      <td>95.346243</td>\n",
       "    </tr>\n",
       "  </tbody>\n",
       "</table>\n",
       "</div>"
      ],
      "text/plain": [
       "      Metric      Value\n",
       "0   Accuracy  95.351031\n",
       "1  Precision  95.366708\n",
       "2     Recall  95.351031\n",
       "3   F1-Score  95.346243"
      ]
     },
     "execution_count": 29,
     "metadata": {},
     "output_type": "execute_result"
    }
   ],
   "source": [
    "accuracy_svm=evaluator.evaluate(svm_predictions,{evaluator.metricName:\"accuracy\"})\n",
    "precision_svm = evaluator.evaluate(svm_predictions,{evaluator.metricName:\"weightedPrecision\"})\n",
    "recall_svm = evaluator.evaluate(svm_predictions,{evaluator.metricName:\"weightedRecall\"})\n",
    "f1_svm = evaluator.evaluate(svm_predictions,{evaluator.metricName:\"f1\"})\n",
    "table_svm= [(\"Accuracy\", accuracy_svm*100), (\"Precision\", precision_svm*100), (\"Recall\", recall_svm*100), (\"F1-Score\", f1_svm*100)]\n",
    "table_df_svm = pd.DataFrame(table_svm, columns=[\"Metric\", \"Value\"])\n",
    "table_df_svm"
   ]
  },
  {
   "cell_type": "markdown",
   "id": "016d15ab",
   "metadata": {},
   "source": [
    "## Naive Bayes"
   ]
  },
  {
   "cell_type": "code",
   "execution_count": 30,
   "id": "5a2ad1a6",
   "metadata": {},
   "outputs": [],
   "source": [
    "from pyspark.ml.classification import NaiveBayes\n"
   ]
  },
  {
   "cell_type": "code",
   "execution_count": 31,
   "id": "531474b1",
   "metadata": {},
   "outputs": [
    {
     "name": "stderr",
     "output_type": "stream",
     "text": [
      "\r",
      "[Stage 766:>                                                        (0 + 8) / 8]\r",
      "\r",
      "                                                                                \r"
     ]
    }
   ],
   "source": [
    "naive_bayes = NaiveBayes(labelCol='class_index', featuresCol='features' )\n",
    "pipeline = Pipeline(stages=[feature_assembler, naive_bayes])\n",
    "model = pipeline.fit(train_data)\n",
    "\n",
    "predictions = model.transform(test_data)"
   ]
  },
  {
   "cell_type": "code",
   "execution_count": 32,
   "id": "028721df",
   "metadata": {},
   "outputs": [],
   "source": [
    "evaluator=MulticlassClassificationEvaluator(labelCol=\"class_index\",predictionCol=\"prediction\")"
   ]
  },
  {
   "cell_type": "code",
   "execution_count": 33,
   "id": "7c32e803",
   "metadata": {},
   "outputs": [
    {
     "data": {
      "text/html": [
       "<div>\n",
       "<style scoped>\n",
       "    .dataframe tbody tr th:only-of-type {\n",
       "        vertical-align: middle;\n",
       "    }\n",
       "\n",
       "    .dataframe tbody tr th {\n",
       "        vertical-align: top;\n",
       "    }\n",
       "\n",
       "    .dataframe thead th {\n",
       "        text-align: right;\n",
       "    }\n",
       "</style>\n",
       "<table border=\"1\" class=\"dataframe\">\n",
       "  <thead>\n",
       "    <tr style=\"text-align: right;\">\n",
       "      <th></th>\n",
       "      <th>Metric</th>\n",
       "      <th>Value</th>\n",
       "    </tr>\n",
       "  </thead>\n",
       "  <tbody>\n",
       "    <tr>\n",
       "      <th>0</th>\n",
       "      <td>Accuracy</td>\n",
       "      <td>83.560167</td>\n",
       "    </tr>\n",
       "    <tr>\n",
       "      <th>1</th>\n",
       "      <td>Precision</td>\n",
       "      <td>84.528930</td>\n",
       "    </tr>\n",
       "    <tr>\n",
       "      <th>2</th>\n",
       "      <td>Recall</td>\n",
       "      <td>83.560167</td>\n",
       "    </tr>\n",
       "    <tr>\n",
       "      <th>3</th>\n",
       "      <td>F1-Score</td>\n",
       "      <td>83.562684</td>\n",
       "    </tr>\n",
       "  </tbody>\n",
       "</table>\n",
       "</div>"
      ],
      "text/plain": [
       "      Metric      Value\n",
       "0   Accuracy  83.560167\n",
       "1  Precision  84.528930\n",
       "2     Recall  83.560167\n",
       "3   F1-Score  83.562684"
      ]
     },
     "execution_count": 33,
     "metadata": {},
     "output_type": "execute_result"
    }
   ],
   "source": [
    "accuracy_nb=evaluator.evaluate(predictions,{evaluator.metricName:\"accuracy\"})\n",
    "precision_nb = evaluator.evaluate(predictions,{evaluator.metricName:\"weightedPrecision\"})\n",
    "recall_nb = evaluator.evaluate(predictions,{evaluator.metricName:\"weightedRecall\"})\n",
    "f1_nb = evaluator.evaluate(predictions,{evaluator.metricName:\"f1\"})\n",
    "table= [(\"Accuracy\", accuracy_nb*100), (\"Precision\", precision_nb*100), (\"Recall\", recall_nb*100), (\"F1-Score\", f1_nb*100)]\n",
    "table_df = pd.DataFrame(table, columns=[\"Metric\", \"Value\"])\n",
    "table_df"
   ]
  },
  {
   "cell_type": "markdown",
   "id": "b59d7da2",
   "metadata": {},
   "source": [
    "## Decision Tree"
   ]
  },
  {
   "cell_type": "code",
   "execution_count": 34,
   "id": "6f49872f",
   "metadata": {},
   "outputs": [],
   "source": [
    "from pyspark.ml.classification import DecisionTreeClassifier\n"
   ]
  },
  {
   "cell_type": "code",
   "execution_count": 35,
   "id": "d010ce78",
   "metadata": {},
   "outputs": [],
   "source": [
    "tree= DecisionTreeClassifier(labelCol=\"class_index\", featuresCol=\"features\", maxBins=100)\n",
    "pipeline = Pipeline(stages=[feature_assembler, tree])\n",
    "model = pipeline.fit(train_data)\n",
    "\n",
    "tree_predictions = model.transform(test_data)"
   ]
  },
  {
   "cell_type": "code",
   "execution_count": 36,
   "id": "6a600eb4",
   "metadata": {},
   "outputs": [],
   "source": [
    "evaluator = MulticlassClassificationEvaluator(labelCol=\"class_index\", predictionCol=\"prediction\")"
   ]
  },
  {
   "cell_type": "code",
   "execution_count": 37,
   "id": "8c7a7d39",
   "metadata": {},
   "outputs": [
    {
     "data": {
      "text/html": [
       "<div>\n",
       "<style scoped>\n",
       "    .dataframe tbody tr th:only-of-type {\n",
       "        vertical-align: middle;\n",
       "    }\n",
       "\n",
       "    .dataframe tbody tr th {\n",
       "        vertical-align: top;\n",
       "    }\n",
       "\n",
       "    .dataframe thead th {\n",
       "        text-align: right;\n",
       "    }\n",
       "</style>\n",
       "<table border=\"1\" class=\"dataframe\">\n",
       "  <thead>\n",
       "    <tr style=\"text-align: right;\">\n",
       "      <th></th>\n",
       "      <th>Metric</th>\n",
       "      <th>Value</th>\n",
       "    </tr>\n",
       "  </thead>\n",
       "  <tbody>\n",
       "    <tr>\n",
       "      <th>0</th>\n",
       "      <td>Accuracy</td>\n",
       "      <td>98.261690</td>\n",
       "    </tr>\n",
       "    <tr>\n",
       "      <th>1</th>\n",
       "      <td>Precision</td>\n",
       "      <td>98.268377</td>\n",
       "    </tr>\n",
       "    <tr>\n",
       "      <th>2</th>\n",
       "      <td>Recall</td>\n",
       "      <td>98.261690</td>\n",
       "    </tr>\n",
       "    <tr>\n",
       "      <th>3</th>\n",
       "      <td>F1-Score</td>\n",
       "      <td>98.260715</td>\n",
       "    </tr>\n",
       "  </tbody>\n",
       "</table>\n",
       "</div>"
      ],
      "text/plain": [
       "      Metric      Value\n",
       "0   Accuracy  98.261690\n",
       "1  Precision  98.268377\n",
       "2     Recall  98.261690\n",
       "3   F1-Score  98.260715"
      ]
     },
     "execution_count": 37,
     "metadata": {},
     "output_type": "execute_result"
    }
   ],
   "source": [
    "\n",
    "accuracy_tree=evaluator.evaluate(tree_predictions,{evaluator.metricName:\"accuracy\"})\n",
    "precision_tree = evaluator.evaluate(tree_predictions,{evaluator.metricName:\"weightedPrecision\"})\n",
    "recall_tree = evaluator.evaluate(tree_predictions,{evaluator.metricName:\"weightedRecall\"})\n",
    "f1_tree = evaluator.evaluate(tree_predictions,{evaluator.metricName:\"f1\"})\n",
    "table_tree= [(\"Accuracy\", accuracy_tree*100), (\"Precision\", precision_tree*100), (\"Recall\", recall_tree*100), (\"F1-Score\", f1_tree*100)]\n",
    "table_df_tree = pd.DataFrame(table_tree, columns=[\"Metric\", \"Value\"])\n",
    "table_df_tree"
   ]
  },
  {
   "cell_type": "markdown",
   "id": "2628fbb6",
   "metadata": {},
   "source": [
    "## MLP"
   ]
  },
  {
   "cell_type": "code",
   "execution_count": 38,
   "id": "79a564ed",
   "metadata": {},
   "outputs": [],
   "source": [
    "from pyspark.sql import SparkSession\n",
    "from pyspark.ml.feature import VectorAssembler\n",
    "from pyspark.ml.classification import MultilayerPerceptronClassifier\n",
    "from pyspark.ml import Pipeline\n",
    "from pyspark.ml.evaluation import MulticlassClassificationEvaluator"
   ]
  },
  {
   "cell_type": "code",
   "execution_count": 39,
   "id": "53ea2c83",
   "metadata": {},
   "outputs": [
    {
     "name": "stderr",
     "output_type": "stream",
     "text": [
      "\r",
      "[Stage 800:===================================>                     (5 + 3) / 8]\r",
      "\r",
      "                                                                                \r"
     ]
    }
   ],
   "source": [
    "layers = [len(feature_assembler.getInputCols()), 64, 32, 2]\n",
    "mlp_classifier = MultilayerPerceptronClassifier(layers=layers, seed=1234, labelCol=\"class_index\", featuresCol=\"features\")\n",
    "\n",
    "# Create a pipeline\n",
    "pipeline = Pipeline(stages=[feature_assembler, mlp_classifier])\n",
    "model = pipeline.fit(train_data)\n",
    "\n",
    "mlp_predictions = model.transform(test_data)\n"
   ]
  },
  {
   "cell_type": "code",
   "execution_count": 40,
   "id": "9818e50b",
   "metadata": {},
   "outputs": [],
   "source": [
    "evaluator = MulticlassClassificationEvaluator(labelCol=\"class_index\", predictionCol=\"prediction\")"
   ]
  },
  {
   "cell_type": "code",
   "execution_count": 41,
   "id": "cbc9e59e",
   "metadata": {},
   "outputs": [
    {
     "data": {
      "text/html": [
       "<div>\n",
       "<style scoped>\n",
       "    .dataframe tbody tr th:only-of-type {\n",
       "        vertical-align: middle;\n",
       "    }\n",
       "\n",
       "    .dataframe tbody tr th {\n",
       "        vertical-align: top;\n",
       "    }\n",
       "\n",
       "    .dataframe thead th {\n",
       "        text-align: right;\n",
       "    }\n",
       "</style>\n",
       "<table border=\"1\" class=\"dataframe\">\n",
       "  <thead>\n",
       "    <tr style=\"text-align: right;\">\n",
       "      <th></th>\n",
       "      <th>Metric</th>\n",
       "      <th>Value</th>\n",
       "    </tr>\n",
       "  </thead>\n",
       "  <tbody>\n",
       "    <tr>\n",
       "      <th>0</th>\n",
       "      <td>Accuracy</td>\n",
       "      <td>96.348201</td>\n",
       "    </tr>\n",
       "    <tr>\n",
       "      <th>1</th>\n",
       "      <td>Precision</td>\n",
       "      <td>96.375110</td>\n",
       "    </tr>\n",
       "    <tr>\n",
       "      <th>2</th>\n",
       "      <td>Recall</td>\n",
       "      <td>96.348201</td>\n",
       "    </tr>\n",
       "    <tr>\n",
       "      <th>3</th>\n",
       "      <td>F1-Score</td>\n",
       "      <td>96.343622</td>\n",
       "    </tr>\n",
       "  </tbody>\n",
       "</table>\n",
       "</div>"
      ],
      "text/plain": [
       "      Metric      Value\n",
       "0   Accuracy  96.348201\n",
       "1  Precision  96.375110\n",
       "2     Recall  96.348201\n",
       "3   F1-Score  96.343622"
      ]
     },
     "execution_count": 41,
     "metadata": {},
     "output_type": "execute_result"
    }
   ],
   "source": [
    "accuracy_mlp=evaluator.evaluate(mlp_predictions,{evaluator.metricName:\"accuracy\"})\n",
    "precision_mlp = evaluator.evaluate(mlp_predictions,{evaluator.metricName:\"weightedPrecision\"})\n",
    "recall_mlp = evaluator.evaluate(mlp_predictions,{evaluator.metricName:\"weightedRecall\"})\n",
    "f1_mlp= evaluator.evaluate(mlp_predictions,{evaluator.metricName:\"f1\"})\n",
    "table_mlp= [(\"Accuracy\", accuracy_mlp*100), (\"Precision\", precision_mlp*100), (\"Recall\", recall_mlp*100), (\"F1-Score\", f1_mlp*100)]\n",
    "table_df_mlp = pd.DataFrame(table_mlp, columns=[\"Metric\", \"Value\"])\n",
    "table_df_mlp"
   ]
  },
  {
   "cell_type": "markdown",
   "id": "5dcba926",
   "metadata": {},
   "source": [
    "## plots"
   ]
  },
  {
   "cell_type": "code",
   "execution_count": 42,
   "id": "be187008",
   "metadata": {},
   "outputs": [],
   "source": [
    "import matplotlib.pyplot as plt"
   ]
  },
  {
   "cell_type": "code",
   "execution_count": 43,
   "id": "be5fd42f",
   "metadata": {},
   "outputs": [],
   "source": [
    "classifiers = ['Naive Bayes','SVM','Decision Tree' ,'Random Forest','MLP']"
   ]
  },
  {
   "cell_type": "code",
   "execution_count": 44,
   "id": "3cf14122",
   "metadata": {},
   "outputs": [
    {
     "data": {
      "image/png": "[encoded data removed]",
      "text/plain": [
       "<Figure size 640x480 with 1 Axes>"
      ]
     },
     "metadata": {},
     "output_type": "display_data"
    }
   ],
   "source": [
    "accuracy_scores = [accuracy_nb,accuracy_svm,accuracy_tree,accuracy_rf,accuracy_mlp]\n",
    "plt.bar( classifiers,accuracy_scores , color='blue')\n",
    "plt.title('Accuracy Scores')\n",
    "plt.ylabel('Accuracy')\n",
    "plt.show()"
   ]
  },
  {
   "cell_type": "code",
   "execution_count": 53,
   "id": "8aed0134",
   "metadata": {},
   "outputs": [
    {
     "data": {
      "image/png": "[encoded data removed]",
      "text/plain": [
       "<Figure size 640x480 with 1 Axes>"
      ]
     },
     "metadata": {},
     "output_type": "display_data"
    }
   ],
   "source": [
    "import matplotlib.pyplot as plt\n",
    "\n",
    "# Sample data\n",
    "classifiers = ['Naive Bayes', 'SVM', 'Decision Tree', 'Random Forest', 'MLP']\n",
    "accuracy_scores = [accuracy_nb*100, accuracy_svm*100, accuracy_tree*100, accuracy_rf*100, accuracy_mlp*100]\n",
    "\n",
    "# Create a bar plot\n",
    "plt.bar(classifiers, accuracy_scores, color='blue')\n",
    "plt.title('Accuracy Scores')\n",
    "plt.ylabel('Accuracy')\n",
    "\n",
    "# Set the y-axis range from 60 to 100\n",
    "plt.ylim(80, 100)\n",
    "plt.grid(axis='y', linestyle='--', alpha=0.7)\n",
    "\n",
    "# Adding data labels with higher precision on top of each bar\n",
    "for i, score in enumerate(accuracy_scores):\n",
    "    plt.text(i, score + 0.5, f'{score:.1f}', ha='center', va='bottom', fontsize=10)\n",
    "\n",
    "plt.tight_layout()\n",
    "plt.show()\n"
   ]
  },
  {
   "cell_type": "code",
   "execution_count": 46,
   "id": "279c3a2b",
   "metadata": {},
   "outputs": [
    {
     "data": {
      "image/png": "[encoded data removed]",
      "text/plain": [
       "<Figure size 640x480 with 1 Axes>"
      ]
     },
     "metadata": {},
     "output_type": "display_data"
    }
   ],
   "source": [
    "Precision_scores =[precision_nb,precision_svm,precision_tree,precision_rf,precision_mlp]\n",
    "plt.bar( classifiers,Precision_scores , color='red')\n",
    "plt.title('Precision Scores')\n",
    "plt.ylabel('Precision')\n",
    "plt.show()"
   ]
  },
  {
   "cell_type": "code",
   "execution_count": 47,
   "id": "8a8bbabc",
   "metadata": {},
   "outputs": [
    {
     "data": {
      "image/png": "[encoded data removed]",
      "text/plain": [
       "<Figure size 640x480 with 1 Axes>"
      ]
     },
     "metadata": {},
     "output_type": "display_data"
    }
   ],
   "source": [
    "Recall_scores = [recall_nb,recall_svm,recall_tree,recall_rf,precision_mlp]\n",
    "plt.bar( classifiers,Recall_scores , color='orange')\n",
    "plt.title('Recall Scores')\n",
    "plt.ylabel('Recall')\n",
    "plt.show()"
   ]
  },
  {
   "cell_type": "code",
   "execution_count": 48,
   "id": "3c524d85",
   "metadata": {},
   "outputs": [
    {
     "data": {
      "image/png": "[encoded data removed]",
      "text/plain": [
       "<Figure size 640x480 with 1 Axes>"
      ]
     },
     "metadata": {},
     "output_type": "display_data"
    }
   ],
   "source": [
    "f1_scores = [f1_nb,f1_svm,f1_tree,f1_rf,f1_mlp]\n",
    "plt.bar( classifiers,f1_scores , color='green')\n",
    "plt.title('f1 Scores')\n",
    "plt.ylabel('f1')\n",
    "plt.show()"
   ]
  },
  {
   "cell_type": "code",
   "execution_count": 54,
   "id": "7da463f0",
   "metadata": {},
   "outputs": [
    {
     "data": {
      "image/png": "[encoded data removed]",
      "text/plain": [
       "<Figure size 640x480 with 1 Axes>"
      ]
     },
     "metadata": {},
     "output_type": "display_data"
    }
   ],
   "source": [
    "import matplotlib.pyplot as plt\n",
    "\n",
    "# Sample data\n",
    "classifiers = ['Naive Bayes', 'SVM', 'Decision Tree', 'Random Forest', 'MLP']\n",
    "f1_scores=[f1_nb*100,f1_svm*100,f1_tree*100,f1_rf*100,f1_mlp*100]\n",
    "# Create a bar plot\n",
    "plt.bar(classifiers, f1_scores, color='red')\n",
    "plt.title('F1 Scores')\n",
    "plt.ylabel('F1 score')\n",
    "\n",
    "# Set the y-axis range from 60 to 100\n",
    "plt.ylim(80, 100)\n",
    "plt.grid(axis='y', linestyle='--', alpha=0.7)\n",
    "\n",
    "# Adding data labels with higher precision on top of each bar\n",
    "for i, score in enumerate(f1_scores):\n",
    "    plt.text(i, score + 0.5, f'{score:.1f}', ha='center', va='bottom', fontsize=10)\n",
    "\n",
    "plt.tight_layout()\n",
    "plt.show()\n"
   ]
  },
  {
   "cell_type": "code",
   "execution_count": 50,
   "id": "afa372ae",
   "metadata": {},
   "outputs": [
    {
     "name": "stdout",
     "output_type": "stream",
     "text": [
      "Testing Performances for Machine Learning Algorithms\n"
     ]
    },
    {
     "data": {
      "text/html": [
       "<div>\n",
       "<style scoped>\n",
       "    .dataframe tbody tr th:only-of-type {\n",
       "        vertical-align: middle;\n",
       "    }\n",
       "\n",
       "    .dataframe tbody tr th {\n",
       "        vertical-align: top;\n",
       "    }\n",
       "\n",
       "    .dataframe thead th {\n",
       "        text-align: right;\n",
       "    }\n",
       "</style>\n",
       "<table border=\"1\" class=\"dataframe\">\n",
       "  <thead>\n",
       "    <tr style=\"text-align: right;\">\n",
       "      <th></th>\n",
       "      <th>Accuracy</th>\n",
       "      <th>Precision</th>\n",
       "      <th>Recall</th>\n",
       "      <th>F1 Score</th>\n",
       "    </tr>\n",
       "    <tr>\n",
       "      <th>Algorithms</th>\n",
       "      <th></th>\n",
       "      <th></th>\n",
       "      <th></th>\n",
       "      <th></th>\n",
       "    </tr>\n",
       "  </thead>\n",
       "  <tbody>\n",
       "    <tr>\n",
       "      <th>Naive Bayes</th>\n",
       "      <td>83.560167</td>\n",
       "      <td>84.528930</td>\n",
       "      <td>83.560167</td>\n",
       "      <td>83.562684</td>\n",
       "    </tr>\n",
       "    <tr>\n",
       "      <th>SVM</th>\n",
       "      <td>95.351031</td>\n",
       "      <td>95.366708</td>\n",
       "      <td>95.351031</td>\n",
       "      <td>95.346243</td>\n",
       "    </tr>\n",
       "    <tr>\n",
       "      <th>Decision Tree</th>\n",
       "      <td>98.261690</td>\n",
       "      <td>98.268377</td>\n",
       "      <td>98.261690</td>\n",
       "      <td>98.260715</td>\n",
       "    </tr>\n",
       "    <tr>\n",
       "      <th>Random Forest</th>\n",
       "      <td>98.638997</td>\n",
       "      <td>98.655902</td>\n",
       "      <td>98.638997</td>\n",
       "      <td>98.637816</td>\n",
       "    </tr>\n",
       "    <tr>\n",
       "      <th>MLP</th>\n",
       "      <td>96.348201</td>\n",
       "      <td>96.375110</td>\n",
       "      <td>96.348201</td>\n",
       "      <td>96.343622</td>\n",
       "    </tr>\n",
       "  </tbody>\n",
       "</table>\n",
       "</div>"
      ],
      "text/plain": [
       "                Accuracy  Precision     Recall   F1 Score\n",
       "Algorithms                                               \n",
       "Naive Bayes    83.560167  84.528930  83.560167  83.562684\n",
       "SVM            95.351031  95.366708  95.351031  95.346243\n",
       "Decision Tree  98.261690  98.268377  98.261690  98.260715\n",
       "Random Forest  98.638997  98.655902  98.638997  98.637816\n",
       "MLP            96.348201  96.375110  96.348201  96.343622"
      ]
     },
     "execution_count": 50,
     "metadata": {},
     "output_type": "execute_result"
    }
   ],
   "source": [
    "print(\"Testing Performances for Machine Learning Algorithms\")\n",
    "result = pd.DataFrame({\"Algorithms\": [\"Naive Bayes\",\"SVM\",\"Decision Tree\" ,\"Random Forest\",\"MLP\"],\n",
    "                       \"Accuracy\":[accuracy_nb,accuracy_svm,accuracy_tree,accuracy_rf,accuracy_mlp],\n",
    "                       \"Precision\":[precision_nb,precision_svm,precision_tree,precision_rf,precision_mlp],\n",
    "                       \"Recall\":[recall_nb,recall_svm,recall_tree,recall_rf,recall_mlp],\n",
    "                       \"F1 Score\":[f1_nb,f1_svm,f1_tree,f1_rf,f1_mlp]}).set_index('Algorithms')\n",
    "result*100"
   ]
  },
  {
   "cell_type": "code",
   "execution_count": null,
   "id": "80b54ae1",
   "metadata": {},
   "outputs": [],
   "source": []
  }
 ],
 "metadata": {
  "kernelspec": {
   "display_name": "Python 3 (ipykernel)",
   "language": "python",
   "name": "python3"
  },
  "language_info": {
   "codemirror_mode": {
    "name": "ipython",
    "version": 3
   },
   "file_extension": ".py",
   "mimetype": "text/x-python",
   "name": "python",
   "nbconvert_exporter": "python",
   "pygments_lexer": "ipython3",
   "version": "3.11.5"
  }
 },
 "nbformat": 4,
 "nbformat_minor": 5
}
